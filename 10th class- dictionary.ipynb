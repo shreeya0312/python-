{
 "cells": [
  {
   "cell_type": "code",
   "execution_count": 1,
   "id": "2c29e3cb",
   "metadata": {},
   "outputs": [],
   "source": [
    "#dictionary\n",
    "#-Indexing\n",
    "#-Ordered data type\n",
    "#-Multiple and duplicate data\n",
    "#-Mutable\n"
   ]
  },
  {
   "cell_type": "code",
   "execution_count": 2,
   "id": "19febd7c",
   "metadata": {},
   "outputs": [],
   "source": [
    "#d = {<key>:<value>, <key>:<value>,...}"
   ]
  },
  {
   "cell_type": "code",
   "execution_count": 7,
   "id": "3e18f901",
   "metadata": {},
   "outputs": [
    {
     "name": "stdout",
     "output_type": "stream",
     "text": [
      "{'a': 'apple', 'b': 'Ball', 'c': 'Cat'}\n",
      "<class 'dict'>\n"
     ]
    }
   ],
   "source": [
    "d = {'a':'apple', 'b':'Ball', 'c':'Cat'} #a bhanne key ma k value raicha? apple raicha. amd so on. \n",
    "print(d) #ordered. same order ma appear huncha in results.\n",
    "print(type(d))"
   ]
  },
  {
   "cell_type": "code",
   "execution_count": 5,
   "id": "a5c7eb3b",
   "metadata": {},
   "outputs": [
    {
     "name": "stdout",
     "output_type": "stream",
     "text": [
      "apple\n"
     ]
    }
   ],
   "source": [
    "print(d['a'])"
   ]
  },
  {
   "cell_type": "code",
   "execution_count": 6,
   "id": "b9446765",
   "metadata": {},
   "outputs": [
    {
     "name": "stdout",
     "output_type": "stream",
     "text": [
      "Ball\n"
     ]
    }
   ],
   "source": [
    "print(d['b'])"
   ]
  },
  {
   "cell_type": "code",
   "execution_count": 9,
   "id": "91ebdde9",
   "metadata": {},
   "outputs": [
    {
     "data": {
      "text/plain": [
       "{'a': 'apple', 'b': 'Ball', 'c': 'cat'}"
      ]
     },
     "execution_count": 9,
     "metadata": {},
     "output_type": "execute_result"
    }
   ],
   "source": [
    "d = {'a':'apple', 'b':'Ball', 'c':'Cat', 'c':'cat'}\n",
    "d #cant have same key. latest key & value will replace former one. "
   ]
  },
  {
   "cell_type": "code",
   "execution_count": 12,
   "id": "3bd77916",
   "metadata": {},
   "outputs": [
    {
     "ename": "TypeError",
     "evalue": "unsupported operand type(s) for +: 'dict' and 'dict'",
     "output_type": "error",
     "traceback": [
      "\u001b[0;31m---------------------------------------------------------------------------\u001b[0m",
      "\u001b[0;31mTypeError\u001b[0m                                 Traceback (most recent call last)",
      "Cell \u001b[0;32mIn[12], line 3\u001b[0m\n\u001b[1;32m      1\u001b[0m a \u001b[38;5;241m=\u001b[39m {\u001b[38;5;124m'\u001b[39m\u001b[38;5;124ma\u001b[39m\u001b[38;5;124m'\u001b[39m:\u001b[38;5;124m'\u001b[39m\u001b[38;5;124mapple\u001b[39m\u001b[38;5;124m'\u001b[39m, \u001b[38;5;124m'\u001b[39m\u001b[38;5;124mb\u001b[39m\u001b[38;5;124m'\u001b[39m:\u001b[38;5;124m'\u001b[39m\u001b[38;5;124mBall\u001b[39m\u001b[38;5;124m'\u001b[39m, \u001b[38;5;124m'\u001b[39m\u001b[38;5;124mc\u001b[39m\u001b[38;5;124m'\u001b[39m:\u001b[38;5;124m'\u001b[39m\u001b[38;5;124mCat\u001b[39m\u001b[38;5;124m'\u001b[39m}\n\u001b[1;32m      2\u001b[0m b \u001b[38;5;241m=\u001b[39m {\u001b[38;5;241m1\u001b[39m:\u001b[38;5;241m1\u001b[39m,\u001b[38;5;241m2\u001b[39m:\u001b[38;5;241m4\u001b[39m,\u001b[38;5;241m3\u001b[39m:\u001b[38;5;241m9\u001b[39m}\n\u001b[0;32m----> 3\u001b[0m c \u001b[38;5;241m=\u001b[39m a \u001b[38;5;241m+\u001b[39m b\n\u001b[1;32m      4\u001b[0m \u001b[38;5;28mprint\u001b[39m (c)\n",
      "\u001b[0;31mTypeError\u001b[0m: unsupported operand type(s) for +: 'dict' and 'dict'"
     ]
    }
   ],
   "source": [
    "a = {'a':'apple', 'b':'Ball', 'c':'Cat'}\n",
    "b = {1:1,2:4,3:9}\n",
    "c = a + b\n",
    "print (c) #this shows error coz we cant concat values in curly brackets. cant use any mathematical operator in curly bracket"
   ]
  },
  {
   "cell_type": "code",
   "execution_count": 13,
   "id": "53c41d51",
   "metadata": {},
   "outputs": [
    {
     "name": "stdout",
     "output_type": "stream",
     "text": [
      "{'a': 'apple', 'b': 'Ball', 'c': 'Cat', 1: 1, 2: 4, 3: 9}\n"
     ]
    }
   ],
   "source": [
    "a = {'a':'apple', 'b':'Ball', 'c':'Cat'}\n",
    "b = {1:1,2:4,3:9}\n",
    "a.update(b)\n",
    "print(a)"
   ]
  },
  {
   "cell_type": "code",
   "execution_count": 16,
   "id": "605f7876",
   "metadata": {},
   "outputs": [
    {
     "name": "stdout",
     "output_type": "stream",
     "text": [
      "a b c "
     ]
    }
   ],
   "source": [
    "a = {'a':'apple', 'b':'Ball', 'c':'Cat'}\n",
    "for i in a:\n",
    "    print(i, end = \" \")"
   ]
  },
  {
   "cell_type": "code",
   "execution_count": 18,
   "id": "adfa0db9",
   "metadata": {},
   "outputs": [
    {
     "name": "stdout",
     "output_type": "stream",
     "text": [
      "apple Ball Cat "
     ]
    }
   ],
   "source": [
    "a = {'a':'apple', 'b':'Ball', 'c':'Cat'}\n",
    "for i in a.values():\n",
    "    print(i, end = \" \")"
   ]
  },
  {
   "cell_type": "code",
   "execution_count": 19,
   "id": "5e71145e",
   "metadata": {},
   "outputs": [
    {
     "name": "stdout",
     "output_type": "stream",
     "text": [
      "('a', 'apple') ('b', 'Ball') ('c', 'Cat') "
     ]
    }
   ],
   "source": [
    "a = {'a':'apple', 'b':'Ball', 'c':'Cat'}\n",
    "for i in a.items():\n",
    "    print(i, end = \" \")"
   ]
  },
  {
   "cell_type": "code",
   "execution_count": 24,
   "id": "ddb3c564",
   "metadata": {},
   "outputs": [
    {
     "data": {
      "text/plain": [
       "{'a': 'Apple', 'b': 'Ball', 'c': 'Cat'}"
      ]
     },
     "execution_count": 24,
     "metadata": {},
     "output_type": "execute_result"
    }
   ],
   "source": [
    "#how to create a dictonary\n",
    "#d = dict()\n",
    "d={}\n",
    "d['a'] = \"Apple\"\n",
    "d['b'] = \"Ball\"\n",
    "d['c'] = \"Cat\"\n",
    "d"
   ]
  },
  {
   "cell_type": "code",
   "execution_count": 25,
   "id": "87b25608",
   "metadata": {},
   "outputs": [
    {
     "data": {
      "text/plain": [
       "{'a': 'Ant', 'b': 'Ball', 'c': 'Cat'}"
      ]
     },
     "execution_count": 25,
     "metadata": {},
     "output_type": "execute_result"
    }
   ],
   "source": [
    "#update values\n",
    "d = {'a': 'Apple', 'b': 'Ball', 'c': 'Cat'}\n",
    "d['a'] = \"Ant\" #this replaces apple.\n",
    "d"
   ]
  },
  {
   "cell_type": "code",
   "execution_count": 27,
   "id": "1bd59f1a",
   "metadata": {},
   "outputs": [
    {
     "name": "stdout",
     "output_type": "stream",
     "text": [
      "{'b': 'Ball', 'c': 'Cat'}\n"
     ]
    }
   ],
   "source": [
    "#how to delete values\n",
    "#del pop()\n",
    "d = {'a': 'Apple', 'b': 'Ball', 'c': 'Cat'}\n",
    "del d['a']\n",
    "print (d)"
   ]
  },
  {
   "cell_type": "code",
   "execution_count": 28,
   "id": "b31f22ff",
   "metadata": {},
   "outputs": [
    {
     "name": "stdout",
     "output_type": "stream",
     "text": [
      "Apple\n",
      "{'b': 'Ball', 'c': 'Cat'}\n"
     ]
    }
   ],
   "source": [
    "d = {'a': 'Apple', 'b': 'Ball', 'c': 'Cat'}\n",
    "b = d.pop('a')\n",
    "print(b)\n",
    "print(d)\n"
   ]
  },
  {
   "cell_type": "code",
   "execution_count": 29,
   "id": "e1d168ad",
   "metadata": {},
   "outputs": [
    {
     "data": {
      "text/plain": [
       "{'Ram': 9851088661, 'Shyam': 9841891181, 'Hari': 9742536480}"
      ]
     },
     "execution_count": 29,
     "metadata": {},
     "output_type": "execute_result"
    }
   ],
   "source": [
    "\n",
    "info = {'Ram':9851088661, 'Shyam':9841891181, 'Hari':9742536480}\n",
    "info"
   ]
  },
  {
   "cell_type": "code",
   "execution_count": 30,
   "id": "1be9d323",
   "metadata": {},
   "outputs": [
    {
     "data": {
      "text/plain": [
       "{'Ram': [9851088661, 9876663782],\n",
       " 'Shyam': [9841891181, 9873829848],\n",
       " 'Hari': [9742536480, 98382883874]}"
      ]
     },
     "execution_count": 30,
     "metadata": {},
     "output_type": "execute_result"
    }
   ],
   "source": [
    "#list inside dictionary\n",
    "\n",
    "info = {'Ram':[9851088661,9876663782], 'Shyam':[9841891181,9873829848], 'Hari':[9742536480,98382883874]}\n",
    "info"
   ]
  },
  {
   "cell_type": "code",
   "execution_count": 31,
   "id": "f1809558",
   "metadata": {},
   "outputs": [
    {
     "name": "stdout",
     "output_type": "stream",
     "text": [
      "[9851088661, 9876663782]\n",
      "9851088661\n"
     ]
    }
   ],
   "source": [
    "print(info['Ram'])\n",
    "print(info['Ram'][0])"
   ]
  },
  {
   "cell_type": "code",
   "execution_count": 32,
   "id": "ed4109b6",
   "metadata": {},
   "outputs": [
    {
     "data": {
      "text/plain": [
       "{'Ram': [9876543210, 9876663782],\n",
       " 'Shyam': [9841891181, 9873829848],\n",
       " 'Hari': [9742536480, 98382883874]}"
      ]
     },
     "execution_count": 32,
     "metadata": {},
     "output_type": "execute_result"
    }
   ],
   "source": [
    "info['Ram'][0] = 9876543210\n",
    "info"
   ]
  },
  {
   "cell_type": "code",
   "execution_count": 1,
   "id": "13dac8a8",
   "metadata": {},
   "outputs": [
    {
     "name": "stdout",
     "output_type": "stream",
     "text": [
      "Enter n = 1\n",
      "Enter name = Ram\n",
      "Enter ntc no = 987665536728\n",
      "Enter ncell no = 98774767288929\n",
      "{'Ram': ['987665536728', '98774767288929']}\n"
     ]
    }
   ],
   "source": [
    "d = {}\n",
    "n = int(input (\"Enter n = \"))\n",
    "for i in range(n):\n",
    "    name = input (\"Enter name = \")\n",
    "    ntc = input (\"Enter ntc no = \")\n",
    "    ncell = input (\"Enter ncell no = \")\n",
    "    d[name] = [ntc, ncell]\n",
    "print (d)"
   ]
  },
  {
   "cell_type": "code",
   "execution_count": 3,
   "id": "3a640aab",
   "metadata": {},
   "outputs": [
    {
     "name": "stdout",
     "output_type": "stream",
     "text": [
      "Ram 98877646672 98747882993\n"
     ]
    }
   ],
   "source": [
    "d = {'name' : [\"Ram\", \"Shyam\"],\n",
    "    'ntc': [98877646672, 98773647828],\n",
    "    'ncell': [98747882993, 98763626721]}\n",
    "print(d['name'][0],d['ntc'][0],d['ncell'][0])"
   ]
  },
  {
   "cell_type": "code",
   "execution_count": 3,
   "id": "43810a5e",
   "metadata": {},
   "outputs": [
    {
     "name": "stdout",
     "output_type": "stream",
     "text": [
      "Enter n = 2\n",
      "Enter name = ram\n",
      "Enter ntc no = 8877788998889\n",
      "Enter ncell no = 99877677788\n",
      "Enter name = shyam\n",
      "Enter ntc no = 877637889399\n",
      "Enter ncell no = 9883778382992\n",
      "{'name': ['ram', 'shyam'], 'ntc': ['8877788998889', '877637889399'], 'ncell': ['99877677788', '9883778382992']}\n"
     ]
    }
   ],
   "source": [
    "#WAP where you are able to print in above style\n",
    "\n",
    "d = {'name':[],\n",
    "    'ntc':[],\n",
    "     'ncell':[]}\n",
    "\n",
    "n = int(input (\"Enter n = \"))\n",
    "for i in range(n):\n",
    "    name = input (\"Enter name = \")\n",
    "    ntc = input (\"Enter ntc no = \")\n",
    "    ncell = input (\"Enter ncell no = \")\n",
    "    d['name'].append(name)\n",
    "    d['ntc'].append(ntc)\n",
    "    d['ncell'].append(ncell)\n",
    "\n",
    "print (d)"
   ]
  },
  {
   "cell_type": "code",
   "execution_count": null,
   "id": "01bc223e",
   "metadata": {},
   "outputs": [],
   "source": []
  }
 ],
 "metadata": {
  "kernelspec": {
   "display_name": "Python 3 (ipykernel)",
   "language": "python",
   "name": "python3"
  },
  "language_info": {
   "codemirror_mode": {
    "name": "ipython",
    "version": 3
   },
   "file_extension": ".py",
   "mimetype": "text/x-python",
   "name": "python",
   "nbconvert_exporter": "python",
   "pygments_lexer": "ipython3",
   "version": "3.11.5"
  }
 },
 "nbformat": 4,
 "nbformat_minor": 5
}
