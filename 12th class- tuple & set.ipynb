{
 "cells": [
  {
   "cell_type": "code",
   "execution_count": 1,
   "id": "a168941d",
   "metadata": {},
   "outputs": [],
   "source": [
    "#tuple\n",
    "\n",
    "#-supports indexing\n",
    "#-Ordered\n",
    "#-Multiple and duplicate data huncha\n",
    "#-imutable"
   ]
  },
  {
   "cell_type": "code",
   "execution_count": 2,
   "id": "7b4dfb1c",
   "metadata": {},
   "outputs": [],
   "source": [
    "t = tuple()\n"
   ]
  },
  {
   "cell_type": "code",
   "execution_count": 3,
   "id": "931bd24d",
   "metadata": {},
   "outputs": [
    {
     "name": "stdout",
     "output_type": "stream",
     "text": [
      "<class 'tuple'>\n"
     ]
    }
   ],
   "source": [
    "t = (\"Apple\", \"Ball\", \"Cat\", \"Dog\")\n",
    "print(type(t))"
   ]
  },
  {
   "cell_type": "code",
   "execution_count": 4,
   "id": "c00b4c69",
   "metadata": {},
   "outputs": [
    {
     "name": "stdout",
     "output_type": "stream",
     "text": [
      "Dog\n"
     ]
    }
   ],
   "source": [
    "t = (\"Apple\", \"Ball\", \"Cat\", \"Dog\")\n",
    "print(t[3])"
   ]
  },
  {
   "cell_type": "code",
   "execution_count": 5,
   "id": "676fd489",
   "metadata": {},
   "outputs": [
    {
     "name": "stdout",
     "output_type": "stream",
     "text": [
      "Apple\n"
     ]
    }
   ],
   "source": [
    "t = (\"Apple\", \"Ball\", \"Cat\", \"Dog\")\n",
    "print(t[0])"
   ]
  },
  {
   "cell_type": "code",
   "execution_count": 6,
   "id": "4ac7b9a2",
   "metadata": {},
   "outputs": [],
   "source": [
    "#we cant do append(), insert(), extend()\n",
    "#cant update\n",
    "#cant del remove() pop()\n",
    "#no sort() \n",
    "#thats why immutable data type. cant change OG values."
   ]
  },
  {
   "cell_type": "code",
   "execution_count": 7,
   "id": "2c543bb1",
   "metadata": {},
   "outputs": [
    {
     "name": "stdout",
     "output_type": "stream",
     "text": [
      "(1, 2, 3, 4, 3, 4, 5, 6)\n"
     ]
    }
   ],
   "source": [
    "a=(1,2,3,4)\n",
    "b=(3,4,5,6)\n",
    "c=a+b\n",
    "print(c)"
   ]
  },
  {
   "cell_type": "code",
   "execution_count": 8,
   "id": "04210a7f",
   "metadata": {},
   "outputs": [
    {
     "name": "stdout",
     "output_type": "stream",
     "text": [
      "Enter n = 2\n",
      "Enter x = 4\n",
      "Enter x = 3\n",
      "(4, 3)\n"
     ]
    }
   ],
   "source": [
    "a = tuple()\n",
    "n = int(input(\"Enter n = \"))\n",
    "for i in range(n):\n",
    "    x = int(input(\"Enter x = \"))\n",
    "    a = a+ (x,) #concatenation ko lagi +\n",
    "    \n",
    "print(a)"
   ]
  },
  {
   "cell_type": "code",
   "execution_count": 9,
   "id": "d9bbaf0e",
   "metadata": {},
   "outputs": [
    {
     "name": "stdout",
     "output_type": "stream",
     "text": [
      "4\n",
      "3\n",
      "7\n"
     ]
    }
   ],
   "source": [
    "print(max(a))\n",
    "print(min(a))\n",
    "print(sum(a))"
   ]
  },
  {
   "cell_type": "code",
   "execution_count": 11,
   "id": "97c87f61",
   "metadata": {},
   "outputs": [
    {
     "data": {
      "text/plain": [
       "('Ball', 'Cat', 'Dog')"
      ]
     },
     "execution_count": 11,
     "metadata": {},
     "output_type": "execute_result"
    }
   ],
   "source": [
    "t = (\"Apple\", \"Ball\", \"Cat\", \"Dog\")\n",
    "t = list(t)\n",
    "del t[0]\n",
    "t = tuple (t)\n",
    "t"
   ]
  },
  {
   "cell_type": "code",
   "execution_count": 12,
   "id": "adf46054",
   "metadata": {},
   "outputs": [
    {
     "name": "stdout",
     "output_type": "stream",
     "text": [
      "('A', 'p', 'p', 'l', 'e')\n",
      "['A', 'p', 'p', 'l', 'e']\n"
     ]
    }
   ],
   "source": [
    "a = \"Apple\"\n",
    "print (tuple(a))\n",
    "print (list(a))"
   ]
  },
  {
   "cell_type": "code",
   "execution_count": 13,
   "id": "9b4a1c68",
   "metadata": {},
   "outputs": [],
   "source": [
    "#set"
   ]
  },
  {
   "cell_type": "code",
   "execution_count": 14,
   "id": "423d6669",
   "metadata": {},
   "outputs": [],
   "source": [
    "#-doesnt support indexing\n",
    "#-unordered\n",
    "#multiple but no duplicate data\n",
    "#mutable"
   ]
  },
  {
   "cell_type": "code",
   "execution_count": 15,
   "id": "a1d23fe0",
   "metadata": {},
   "outputs": [],
   "source": [
    "s = set()"
   ]
  },
  {
   "cell_type": "code",
   "execution_count": 16,
   "id": "9b92a303",
   "metadata": {},
   "outputs": [
    {
     "name": "stdout",
     "output_type": "stream",
     "text": [
      "<class 'set'>\n",
      "{'Dog', 'Apple', 'Cat', 'Ball'}\n"
     ]
    }
   ],
   "source": [
    "s = {\"Apple\",\"Ball\",\"Cat\",\"Dog\"}\n",
    "print(type(s))\n",
    "print(s)"
   ]
  },
  {
   "cell_type": "code",
   "execution_count": 17,
   "id": "02e7f4b2",
   "metadata": {},
   "outputs": [],
   "source": [
    "#thats why its unordered. data is jumbled in output. "
   ]
  },
  {
   "cell_type": "code",
   "execution_count": 18,
   "id": "8c6350db",
   "metadata": {},
   "outputs": [
    {
     "name": "stdout",
     "output_type": "stream",
     "text": [
      "{'Dog', 'Apple', 'Cat', 'Ball'}\n"
     ]
    }
   ],
   "source": [
    "s = {\"Apple\",\"Ball\",\"Cat\",\"Dog\",\"Apple\"}\n",
    "print(s)"
   ]
  },
  {
   "cell_type": "code",
   "execution_count": 19,
   "id": "83b364f2",
   "metadata": {},
   "outputs": [],
   "source": [
    "#it doesnt output duplicate value. and gives unordered items inside set. "
   ]
  },
  {
   "cell_type": "code",
   "execution_count": 21,
   "id": "791b7c7a",
   "metadata": {},
   "outputs": [
    {
     "data": {
      "text/plain": [
       "dict"
      ]
     },
     "execution_count": 21,
     "metadata": {},
     "output_type": "execute_result"
    }
   ],
   "source": [
    "s = {}\n",
    "type (s) #now this is no longer set. its dict"
   ]
  },
  {
   "cell_type": "code",
   "execution_count": 22,
   "id": "6f6c5734",
   "metadata": {},
   "outputs": [
    {
     "name": "stdout",
     "output_type": "stream",
     "text": [
      "{'Apple', 'Cat', 'Ball'}\n"
     ]
    }
   ],
   "source": [
    "s = set()\n",
    "s.add(\"Apple\")\n",
    "s.add(\"Ball\")\n",
    "s.add(\"Cat\")\n",
    "print(s)"
   ]
  },
  {
   "cell_type": "code",
   "execution_count": 23,
   "id": "3ba1df61",
   "metadata": {},
   "outputs": [
    {
     "name": "stdout",
     "output_type": "stream",
     "text": [
      "Enter n = 2\n",
      "Enter x = 3\n",
      "Enter x = 4\n",
      "{3, 4}\n"
     ]
    }
   ],
   "source": [
    "a = set()\n",
    "n = int(input(\"Enter n = \"))\n",
    "for i in range(n):\n",
    "    x = int(input(\"Enter x = \"))\n",
    "    a.add(x)\n",
    "\n",
    "print(a)"
   ]
  },
  {
   "cell_type": "code",
   "execution_count": 24,
   "id": "d19e81e1",
   "metadata": {},
   "outputs": [
    {
     "name": "stdout",
     "output_type": "stream",
     "text": [
      "{1, 2, 3, 4, 5, 6, 7, 8}\n"
     ]
    }
   ],
   "source": [
    "a = {1,2,3,4}\n",
    "b = {5,6,7,8}\n",
    "a.update(b) #didnt do a.add(b) because add only updates one value at a time. \n",
    "print(a)"
   ]
  },
  {
   "cell_type": "code",
   "execution_count": 25,
   "id": "957c89c6",
   "metadata": {},
   "outputs": [
    {
     "name": "stdout",
     "output_type": "stream",
     "text": [
      "{2, 3, 4, 5, 6, 7, 8}\n"
     ]
    }
   ],
   "source": [
    "s = {1, 2, 3, 4, 5, 6, 7, 8}\n",
    "s.remove(1)\n",
    "print(s)"
   ]
  },
  {
   "cell_type": "code",
   "execution_count": 26,
   "id": "3451bc49",
   "metadata": {},
   "outputs": [
    {
     "name": "stdout",
     "output_type": "stream",
     "text": [
      "{4, 5}\n"
     ]
    }
   ],
   "source": [
    "a = {1,2,3,4,5}\n",
    "b = {4,5,6,7,8}\n",
    "i = a.intersection(b)\n",
    "print(i)"
   ]
  },
  {
   "cell_type": "code",
   "execution_count": 30,
   "id": "b6024677",
   "metadata": {},
   "outputs": [
    {
     "name": "stdout",
     "output_type": "stream",
     "text": [
      "{1, 2, 3, 4, 5, 6, 7, 8}\n"
     ]
    }
   ],
   "source": [
    "U = {0,1,2,3,4,5,6,7,8,9}\n",
    "a = {1,2,3,4,5}\n",
    "b = {4,5,6,7,8}\n",
    "i = a.union(b)\n",
    "print(i)"
   ]
  },
  {
   "cell_type": "code",
   "execution_count": 31,
   "id": "93390d94",
   "metadata": {},
   "outputs": [
    {
     "name": "stdout",
     "output_type": "stream",
     "text": [
      "{1, 2, 3}\n"
     ]
    }
   ],
   "source": [
    "print (a - b) #a ma bhako, b ma nabhako values"
   ]
  },
  {
   "cell_type": "code",
   "execution_count": 32,
   "id": "28037605",
   "metadata": {},
   "outputs": [
    {
     "name": "stdout",
     "output_type": "stream",
     "text": [
      "{8, 6, 7}\n"
     ]
    }
   ],
   "source": [
    "print (b - a)"
   ]
  },
  {
   "cell_type": "code",
   "execution_count": 33,
   "id": "ce755fa2",
   "metadata": {},
   "outputs": [
    {
     "name": "stdout",
     "output_type": "stream",
     "text": [
      "{0, 9}\n"
     ]
    }
   ],
   "source": [
    "print (U - i)"
   ]
  },
  {
   "cell_type": "code",
   "execution_count": 35,
   "id": "9198c5fc",
   "metadata": {},
   "outputs": [],
   "source": [
    "#inside set\n",
    "#no list\n",
    "#no dict\n",
    "#no set"
   ]
  },
  {
   "cell_type": "code",
   "execution_count": 38,
   "id": "2cc64277",
   "metadata": {},
   "outputs": [
    {
     "ename": "TypeError",
     "evalue": "unhashable type: 'set'",
     "output_type": "error",
     "traceback": [
      "\u001b[0;31m---------------------------------------------------------------------------\u001b[0m",
      "\u001b[0;31mTypeError\u001b[0m                                 Traceback (most recent call last)",
      "Cell \u001b[0;32mIn[38], line 3\u001b[0m\n\u001b[1;32m      1\u001b[0m a \u001b[38;5;241m=\u001b[39m {\u001b[38;5;124m\"\u001b[39m\u001b[38;5;124mApple\u001b[39m\u001b[38;5;124m\"\u001b[39m,\u001b[38;5;124m\"\u001b[39m\u001b[38;5;124mBall\u001b[39m\u001b[38;5;124m\"\u001b[39m}\n\u001b[1;32m      2\u001b[0m b \u001b[38;5;241m=\u001b[39m {(\u001b[38;5;241m1\u001b[39m,\u001b[38;5;241m2\u001b[39m),(\u001b[38;5;241m3\u001b[39m,\u001b[38;5;241m4\u001b[39m),(\u001b[38;5;241m4\u001b[39m,\u001b[38;5;241m5\u001b[39m),(\u001b[38;5;241m6\u001b[39m,\u001b[38;5;241m7\u001b[39m)}\n\u001b[0;32m----> 3\u001b[0m c \u001b[38;5;241m=\u001b[39m {{\u001b[38;5;241m1\u001b[39m,\u001b[38;5;241m2\u001b[39m},{\u001b[38;5;241m3\u001b[39m,\u001b[38;5;241m4\u001b[39m}}\n\u001b[1;32m      4\u001b[0m \u001b[38;5;28mprint\u001b[39m(\u001b[38;5;28mtype\u001b[39m(c))\n",
      "\u001b[0;31mTypeError\u001b[0m: unhashable type: 'set'"
     ]
    }
   ],
   "source": [
    "a = {\"Apple\",\"Ball\"}\n",
    "b = {(1,2),(3,4),(4,5),(6,7)}\n",
    "c = {{1,2},{3,4}}\n",
    "print(type(c))"
   ]
  },
  {
   "cell_type": "code",
   "execution_count": null,
   "id": "1932e27f",
   "metadata": {},
   "outputs": [],
   "source": []
  }
 ],
 "metadata": {
  "kernelspec": {
   "display_name": "Python 3 (ipykernel)",
   "language": "python",
   "name": "python3"
  },
  "language_info": {
   "codemirror_mode": {
    "name": "ipython",
    "version": 3
   },
   "file_extension": ".py",
   "mimetype": "text/x-python",
   "name": "python",
   "nbconvert_exporter": "python",
   "pygments_lexer": "ipython3",
   "version": "3.11.5"
  }
 },
 "nbformat": 4,
 "nbformat_minor": 5
}
