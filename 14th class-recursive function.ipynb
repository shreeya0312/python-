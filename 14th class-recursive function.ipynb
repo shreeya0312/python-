{
 "cells": [
  {
   "cell_type": "code",
   "execution_count": 2,
   "id": "fa48e4c2",
   "metadata": {},
   "outputs": [],
   "source": [
    "#the function that calls itself is called recursive function. "
   ]
  },
  {
   "cell_type": "code",
   "execution_count": null,
   "id": "bc8c6cd6",
   "metadata": {},
   "outputs": [],
   "source": []
  },
  {
   "cell_type": "code",
   "execution_count": null,
   "id": "b28d6238",
   "metadata": {},
   "outputs": [
    {
     "name": "stdout",
     "output_type": "stream",
     "text": [
      "Hello World\n",
      "Enter y for more print y\n",
      "Hello World\n",
      "Enter y for more print y\n",
      "Hello World\n",
      "Enter y for more print y\n",
      "Hello World\n"
     ]
    }
   ],
   "source": [
    "def hello():\n",
    "    print(\"Hello World\")\n",
    "    x = input (\"Enter y for more print \")\n",
    "    if x == 'y':\n",
    "        hello()\n",
    "        \n",
    "hello()"
   ]
  },
  {
   "cell_type": "code",
   "execution_count": null,
   "id": "7d0f5420",
   "metadata": {},
   "outputs": [],
   "source": [
    "#lambda function"
   ]
  },
  {
   "cell_type": "code",
   "execution_count": null,
   "id": "6eb4ac35",
   "metadata": {},
   "outputs": [],
   "source": [
    "lambda <arguments>:<operation>\n"
   ]
  },
  {
   "cell_type": "code",
   "execution_count": 1,
   "id": "2ea57cd9",
   "metadata": {},
   "outputs": [
    {
     "name": "stdout",
     "output_type": "stream",
     "text": [
      "25\n"
     ]
    }
   ],
   "source": [
    "x = lambda a:a**2 #a to the power 2\n",
    "print (x(5))"
   ]
  },
  {
   "cell_type": "code",
   "execution_count": 2,
   "id": "62eb82e9",
   "metadata": {},
   "outputs": [
    {
     "name": "stdout",
     "output_type": "stream",
     "text": [
      "Enter l = 5\n",
      "Enter b = 4\n",
      "20\n"
     ]
    }
   ],
   "source": [
    "area = lambda l,b:l*b\n",
    "l = int(input(\"Enter l = \"))\n",
    "b = int(input(\"Enter b = \"))\n",
    "print(area(l,b))"
   ]
  },
  {
   "cell_type": "code",
   "execution_count": 3,
   "id": "82242093",
   "metadata": {},
   "outputs": [],
   "source": [
    "# filter() map() functions"
   ]
  },
  {
   "cell_type": "code",
   "execution_count": 4,
   "id": "fcb8f6fc",
   "metadata": {},
   "outputs": [],
   "source": [
    "#filter()\n",
    "#list (filter(lambda <arguments>:<condition>, list)) #answer will be given in list format now."
   ]
  },
  {
   "cell_type": "code",
   "execution_count": 6,
   "id": "c8bdc848",
   "metadata": {},
   "outputs": [
    {
     "name": "stdout",
     "output_type": "stream",
     "text": [
      "[2, 4, 6, 8, 10]\n"
     ]
    }
   ],
   "source": [
    "l = [1,2,3,4,5,6,7,8,9,10]\n",
    "x = list (filter(lambda a : a%2==0, l)) #a lai 2 le divide garda 0 remainder aoucha bhane tyo print gara.\n",
    "print (x)"
   ]
  },
  {
   "cell_type": "code",
   "execution_count": 7,
   "id": "6fa9f53e",
   "metadata": {},
   "outputs": [
    {
     "name": "stdout",
     "output_type": "stream",
     "text": [
      "['Apple', 'Ball', 'Fish']\n"
     ]
    }
   ],
   "source": [
    "l=[\"Apple\",\"Ball\",\"cat\",\"dog\",\"Fish\"]\n",
    "x = list(filter(lambda a:a[0].isupper(), l )) #yo l bhaneko source ma liyera gako ho\n",
    "print (x)"
   ]
  },
  {
   "cell_type": "code",
   "execution_count": 8,
   "id": "a6caf45d",
   "metadata": {},
   "outputs": [
    {
     "data": {
      "text/plain": [
       "True"
      ]
     },
     "execution_count": 8,
     "metadata": {},
     "output_type": "execute_result"
    }
   ],
   "source": [
    "b=\"Apple\"\n",
    "b[0].isupper() #came out true coz A is upper case there."
   ]
  },
  {
   "cell_type": "code",
   "execution_count": 9,
   "id": "019c7759",
   "metadata": {},
   "outputs": [],
   "source": [
    "#map function\n",
    "#list (map(lambda <arguments>:<condition>, list))"
   ]
  },
  {
   "cell_type": "code",
   "execution_count": 10,
   "id": "e98b05c7",
   "metadata": {},
   "outputs": [
    {
     "name": "stdout",
     "output_type": "stream",
     "text": [
      "[1, 4, 9, 16, 25, 36, 49, 64, 81, 100]\n"
     ]
    }
   ],
   "source": [
    "l = [1,2,3,4,5,6,7,8,9,10]\n",
    "x = list (map(lambda a : a**2, l))\n",
    "print (x)"
   ]
  },
  {
   "cell_type": "code",
   "execution_count": 11,
   "id": "ae776570",
   "metadata": {},
   "outputs": [
    {
     "name": "stdout",
     "output_type": "stream",
     "text": [
      "['APPLE', 'BALL', 'CAT', 'DOG', 'FISH']\n"
     ]
    }
   ],
   "source": [
    "l=[\"Apple\",\"Ball\",\"Cat\",\"Dog\",\"Fish\"]\n",
    "x = list(map(lambda a:a.upper(), l )) #yo l bhaneko source ma liyera gako ho\n",
    "print (x)"
   ]
  },
  {
   "cell_type": "code",
   "execution_count": 13,
   "id": "524e7041",
   "metadata": {},
   "outputs": [
    {
     "name": "stdout",
     "output_type": "stream",
     "text": [
      "[10500.0, 36293.25, 38602.2, 35128.8, 67795.35, 71284.5, 59628.45]\n"
     ]
    }
   ],
   "source": [
    "#increase salary by 5%\n",
    "\n",
    "l = [10000, 34565, 36764, 33456, 64567, 67890, 56789]\n",
    "x = list(map(lambda a:round(a*1.05,2), l ))\n",
    "print(x)"
   ]
  },
  {
   "cell_type": "code",
   "execution_count": 14,
   "id": "82a39af7",
   "metadata": {},
   "outputs": [],
   "source": [
    "#math function\n"
   ]
  },
  {
   "cell_type": "code",
   "execution_count": 15,
   "id": "21be1cbd",
   "metadata": {},
   "outputs": [
    {
     "name": "stdout",
     "output_type": "stream",
     "text": [
      "3.141592653589793\n",
      "2.718281828459045\n"
     ]
    }
   ],
   "source": [
    "import math as m\n",
    "print(m.pi)\n",
    "print(m.e)"
   ]
  },
  {
   "cell_type": "code",
   "execution_count": 16,
   "id": "a7b9a896",
   "metadata": {},
   "outputs": [
    {
     "name": "stdout",
     "output_type": "stream",
     "text": [
      "1.0\n",
      "6.123233995736766e-17\n",
      "1.633123935319537e+16\n"
     ]
    }
   ],
   "source": [
    "print (m.sin(m.pi/2)) #sin bhanne function math bata lyako so m.sin lekheko. pi ko value ni math bata lyako so m.pi/2 lekheko.\n",
    "print (m.cos(m.pi/2))\n",
    "print (m.tan(m.pi/2))"
   ]
  },
  {
   "cell_type": "code",
   "execution_count": null,
   "id": "cacc2bd4",
   "metadata": {},
   "outputs": [],
   "source": []
  }
 ],
 "metadata": {
  "kernelspec": {
   "display_name": "Python 3 (ipykernel)",
   "language": "python",
   "name": "python3"
  },
  "language_info": {
   "codemirror_mode": {
    "name": "ipython",
    "version": 3
   },
   "file_extension": ".py",
   "mimetype": "text/x-python",
   "name": "python",
   "nbconvert_exporter": "python",
   "pygments_lexer": "ipython3",
   "version": "3.11.5"
  }
 },
 "nbformat": 4,
 "nbformat_minor": 5
}
