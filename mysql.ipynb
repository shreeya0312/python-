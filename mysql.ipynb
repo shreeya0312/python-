{
 "cells": [
  {
   "cell_type": "code",
   "execution_count": 1,
   "id": "a5ebc9ac",
   "metadata": {},
   "outputs": [
    {
     "name": "stdout",
     "output_type": "stream",
     "text": [
      "Collecting mysql-connector-python\n",
      "  Obtaining dependency information for mysql-connector-python from https://files.pythonhosted.org/packages/53/ed/26a4b8cacb8852c6fd97d2d58a7f2591c41989807ea82bd8d9725a4e6937/mysql_connector_python-8.3.0-py2.py3-none-any.whl.metadata\n",
      "  Downloading mysql_connector_python-8.3.0-py2.py3-none-any.whl.metadata (1.9 kB)\n",
      "Downloading mysql_connector_python-8.3.0-py2.py3-none-any.whl (557 kB)\n",
      "\u001b[2K   \u001b[90m━━━━━━━━━━━━━━━━━━━━━━━━━━━━━━━━━━━━━━━\u001b[0m \u001b[32m557.9/557.9 kB\u001b[0m \u001b[31m257.1 kB/s\u001b[0m eta \u001b[36m0:00:00\u001b[0m00:01\u001b[0m00:01\u001b[0m\n",
      "\u001b[?25hInstalling collected packages: mysql-connector-python\n",
      "Successfully installed mysql-connector-python-8.3.0\n"
     ]
    }
   ],
   "source": [
    "!pip install mysql-connector-python"
   ]
  },
  {
   "cell_type": "code",
   "execution_count": 2,
   "id": "381548cc",
   "metadata": {},
   "outputs": [],
   "source": [
    "import mysql.connector \t\t#importing database\n",
    "\n",
    "database = mysql.connector.connect(\n",
    "  host = \"localhost\",\n",
    "  user = 'root',\n",
    "  password = '',\n",
    "  database = 'python', #python bhanne database sanga connect garcha\n",
    "  port = '3308'\n",
    ")\n",
    "db = database.cursor()"
   ]
  },
  {
   "cell_type": "code",
   "execution_count": 3,
   "id": "12d756e5",
   "metadata": {},
   "outputs": [
    {
     "name": "stdout",
     "output_type": "stream",
     "text": [
      "(1, 'Rama', 89, 98, 85, 67, 89, 420, 82.5, 'A')\n",
      "(3, 'Nabin', 82, 84, 85, 98, 89, 430, 88.5, 'A')\n",
      "(4, 'Shiva', 49, 57, 25, 98, 89, 400, 70.0, 'A')\n",
      "(8, 'Ram', 78, 79, 93, 67, 78, 415, 83.5, 'A')\n",
      "(10, 'Sameer', 89, 67, 80, 98, 89, 412, 82.5, 'A')\n",
      "(11, 'Rama', 89, 45, 65, 87, 78, 364, 72.8, 'B')\n",
      "(12, 'Ram', 87, 90, 65, 78, 87, 407, 81.4, 'A')\n",
      "(13, 'Gauri', 98, 78, 90, 87, 78, 431, 86.2, 'A')\n",
      "(40, 'Hari', 89, 89, 89, 78, 87, 412, 83.0, 'A')\n"
     ]
    }
   ],
   "source": [
    "db.execute(\"SELECT * FROM student\")\n",
    "result =db.fetchall()\n",
    "\n",
    "for x in result:\n",
    "  print(x)\n"
   ]
  },
  {
   "cell_type": "code",
   "execution_count": 4,
   "id": "2166feda",
   "metadata": {},
   "outputs": [
    {
     "name": "stdout",
     "output_type": "stream",
     "text": [
      "(1, 'Rama', 420, 'A')\n",
      "(3, 'Nabin', 430, 'A')\n",
      "(4, 'Shiva', 400, 'A')\n",
      "(8, 'Ram', 415, 'A')\n",
      "(10, 'Sameer', 412, 'A')\n",
      "(11, 'Rama', 364, 'B')\n",
      "(12, 'Ram', 407, 'A')\n",
      "(13, 'Gauri', 431, 'A')\n",
      "(40, 'Hari', 412, 'A')\n"
     ]
    }
   ],
   "source": [
    "db.execute(\"SELECT sn,name,total,grade FROM student\")\n",
    "result =db.fetchall()\n",
    "\n",
    "for x in result:\n",
    "  print(x)"
   ]
  },
  {
   "cell_type": "code",
   "execution_count": 5,
   "id": "12f97fc7",
   "metadata": {},
   "outputs": [
    {
     "name": "stdout",
     "output_type": "stream",
     "text": [
      "(1, 'Rama', 89, 98, 85, 67, 89, 420, 82.5, 'A')\n",
      "(3, 'Nabin', 82, 84, 85, 98, 89, 430, 88.5, 'A')\n",
      "(4, 'Shiva', 49, 57, 25, 98, 89, 400, 70.0, 'A')\n",
      "(8, 'Ram', 78, 79, 93, 67, 78, 415, 83.5, 'A')\n",
      "(10, 'Sameer', 89, 67, 80, 98, 89, 412, 82.5, 'A')\n",
      "(12, 'Ram', 87, 90, 65, 78, 87, 407, 81.4, 'A')\n",
      "(13, 'Gauri', 98, 78, 90, 87, 78, 431, 86.2, 'A')\n",
      "(40, 'Hari', 89, 89, 89, 78, 87, 412, 83.0, 'A')\n"
     ]
    }
   ],
   "source": [
    "db.execute(\"SELECT * FROM student where grade = 'A' \")\n",
    "result =db.fetchall()\n",
    "\n",
    "for x in result:\n",
    "  print(x)"
   ]
  },
  {
   "cell_type": "code",
   "execution_count": 6,
   "id": "197038ec",
   "metadata": {},
   "outputs": [],
   "source": [
    "#insert\n",
    "sql = '''INSERT INTO `student` (`sn`, `name`, `physics`, `chemistry`, `math`, `english`, `nepali`, `total`, `per`, `grade`) \n",
    "VALUES ('16', 'Sabin', '78', '86', '98', '66', '68', '410', '84', 'A');'''\n",
    "db.execute(sql)\n",
    "database.commit()"
   ]
  },
  {
   "cell_type": "code",
   "execution_count": null,
   "id": "6aa2eadd",
   "metadata": {},
   "outputs": [],
   "source": [
    "sn = int(input(\"Enter sn = \"))\n",
    "name = input (\"Enter name = \")\n",
    "physics = int(input(\"Enter physics marks = \"))\n",
    "chemistry = int(input(\"Enter chemistry marks = \"))\n",
    "math = int(input(\"Enter math marks = \"))\n",
    "english = int(input(\"Enter english marks = \"))\n",
    "nepali = int(input(\"Enter nepali marks = \"))\n",
    "total = physics+chemistry+math+english+nepali\n",
    "per = \n",
    "grade = if per =>90, print (A)\n",
    "\n",
    "sql = '''INSERT INTO `student` (`sn`, `name`, `physics`, `chemistry`, `math`, `english`, `nepali`, `total`, `per`, `grade`)\n"
   ]
  },
  {
   "cell_type": "code",
   "execution_count": 4,
   "id": "b512b382",
   "metadata": {},
   "outputs": [
    {
     "name": "stdout",
     "output_type": "stream",
     "text": [
      "Enter name = shriya\n",
      "Enter physics marks90\n",
      "Enter chemistry marks99\n",
      "Enter math marks98\n",
      "Enter english marks97\n",
      "Enter nepali marks90\n"
     ]
    }
   ],
   "source": [
    "name = input (\"Enter name = \")\n",
    "physics = int(input(\"Enter physics marks\"))\n",
    "chemistry = int(input(\"Enter chemistry marks\"))\n",
    "math = int(input(\"Enter math marks\"))\n",
    "english = int(input(\"Enter english marks\"))\n",
    "nepali = int(input(\"Enter nepali marks\"))\n",
    "\n",
    "\n",
    "total = physics + chemistry + math + english + nepali\n",
    "\n",
    "per = total/5\n",
    "\n",
    "if per >= 80:\n",
    "    grade = \"A\"\n",
    "elif per >=60:\n",
    "    grade = \"B\"\n",
    "elif per >=45:\n",
    "    grade = \"C\"\n",
    "else:\n",
    "    grade = \"F\"\n",
    "    \n",
    "#insert\n",
    "sql = f'''INSERT INTO student (name, physics, chemistry, math, english, nepali, \n",
    "total, per, grade) \n",
    "VALUES ('{name}', {physics}, {chemistry}, {math}, {english}, {nepali}, {total}, {per}, '{grade}')'''\n",
    "db.execute(sql)\n",
    "database.commit()"
   ]
  },
  {
   "cell_type": "code",
   "execution_count": 10,
   "id": "8b881023",
   "metadata": {},
   "outputs": [],
   "source": [
    "#update\n",
    "sql = \"UPDATE student SET chemistry = '99',physics=90 WHERE student.sn = 1\"\n",
    "db.execute(sql)\n",
    "database.commit()"
   ]
  },
  {
   "cell_type": "code",
   "execution_count": 8,
   "id": "7a3f457d",
   "metadata": {},
   "outputs": [
    {
     "name": "stdout",
     "output_type": "stream",
     "text": [
      "Enter subject = math\n",
      "Enter marks = 99\n",
      "Enter sn = 3\n"
     ]
    }
   ],
   "source": [
    "#update\n",
    "subject= input(\"Enter subject = \")\n",
    "marks = int(input(\"Enter marks = \"))\n",
    "sn = int(input(\"Enter sn = \"))\n",
    "\n",
    "sql = f\"UPDATE student SET {subject} = {marks} WHERE student.sn = {sn}\" #user sanga data mageko bela matra f rakhne\n",
    "db.execute(sql)\n",
    "database.commit()"
   ]
  },
  {
   "cell_type": "code",
   "execution_count": 9,
   "id": "35de6469",
   "metadata": {},
   "outputs": [
    {
     "name": "stdout",
     "output_type": "stream",
     "text": [
      "UPDATE student SET math = 99 WHERE student.sn = 3\n"
     ]
    }
   ],
   "source": [
    "print(sql)"
   ]
  },
  {
   "cell_type": "code",
   "execution_count": 11,
   "id": "2fd4e2c5",
   "metadata": {},
   "outputs": [],
   "source": [
    "#delete\n",
    "sql = \"DELETE FROM student where sn = 1\"\n",
    "db.execute(sql)\n",
    "database.commit()"
   ]
  },
  {
   "cell_type": "code",
   "execution_count": 12,
   "id": "3e924f27",
   "metadata": {},
   "outputs": [
    {
     "name": "stdout",
     "output_type": "stream",
     "text": [
      "Enter sn = 3\n"
     ]
    }
   ],
   "source": [
    "#delete\n",
    "sn = int(input(\"Enter sn = \"))\n",
    "sql = f\"DELETE FROM student where sn = {sn}\"\n",
    "db.execute(sql)\n",
    "database.commit()"
   ]
  },
  {
   "cell_type": "code",
   "execution_count": null,
   "id": "db3b6d11",
   "metadata": {},
   "outputs": [],
   "source": []
  }
 ],
 "metadata": {
  "kernelspec": {
   "display_name": "Python 3 (ipykernel)",
   "language": "python",
   "name": "python3"
  },
  "language_info": {
   "codemirror_mode": {
    "name": "ipython",
    "version": 3
   },
   "file_extension": ".py",
   "mimetype": "text/x-python",
   "name": "python",
   "nbconvert_exporter": "python",
   "pygments_lexer": "ipython3",
   "version": "3.11.5"
  }
 },
 "nbformat": 4,
 "nbformat_minor": 5
}
