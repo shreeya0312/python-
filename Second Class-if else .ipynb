{
 "cells": [
  {
   "cell_type": "code",
   "execution_count": 1,
   "id": "8e1db7fc",
   "metadata": {},
   "outputs": [],
   "source": [
    "# < > <= >= == != CONDITIONAL OPERATORS"
   ]
  },
  {
   "cell_type": "code",
   "execution_count": 2,
   "id": "4651f118",
   "metadata": {},
   "outputs": [
    {
     "name": "stdout",
     "output_type": "stream",
     "text": [
      "True\n"
     ]
    }
   ],
   "source": [
    "a = 10\n",
    "print (a>5)"
   ]
  },
  {
   "cell_type": "code",
   "execution_count": 3,
   "id": "c286ba70",
   "metadata": {},
   "outputs": [
    {
     "name": "stdout",
     "output_type": "stream",
     "text": [
      "False\n"
     ]
    }
   ],
   "source": [
    "a = 10\n",
    "print (a<5)"
   ]
  },
  {
   "cell_type": "code",
   "execution_count": 5,
   "id": "ac3ea967",
   "metadata": {},
   "outputs": [
    {
     "name": "stdout",
     "output_type": "stream",
     "text": [
      "False\n"
     ]
    }
   ],
   "source": [
    "a = 10\n",
    "print (a == 5)"
   ]
  },
  {
   "cell_type": "code",
   "execution_count": 6,
   "id": "97b41146",
   "metadata": {},
   "outputs": [
    {
     "name": "stdout",
     "output_type": "stream",
     "text": [
      "True\n"
     ]
    }
   ],
   "source": [
    "a = 10\n",
    "print (a != 5)"
   ]
  },
  {
   "cell_type": "code",
   "execution_count": 8,
   "id": "fbb1f797",
   "metadata": {},
   "outputs": [],
   "source": [
    "#if <condition>:\n",
    "#    <operations>\n",
    "#elif <condition>:\n",
    "#    <operations>\n",
    "#else:\n",
    "#    <operations>"
   ]
  },
  {
   "cell_type": "code",
   "execution_count": 9,
   "id": "3f7bc022",
   "metadata": {},
   "outputs": [
    {
     "name": "stdout",
     "output_type": "stream",
     "text": [
      "Enter x = 3\n",
      "The no. is +ve\n"
     ]
    }
   ],
   "source": [
    "x = int(input(\"Enter x = \"))\n",
    "if x>=0:\n",
    "    print(\"The no. is +ve\")\n",
    "else:\n",
    "    print(\"The no. is -ve\")"
   ]
  },
  {
   "cell_type": "code",
   "execution_count": 12,
   "id": "b1ed6599",
   "metadata": {},
   "outputs": [
    {
     "name": "stdout",
     "output_type": "stream",
     "text": [
      "Enter x = 11\n",
      "The no. is odd\n"
     ]
    }
   ],
   "source": [
    "x = int(input(\"Enter x = \"))\n",
    "if x%2==0: #modulus operator. gives remainder 0. If the number divided by 2 has remainder 0 , it is even number\n",
    "    print(\"The no. is even\")\n",
    "else:\n",
    "    print(\"The no. is odd\")"
   ]
  },
  {
   "cell_type": "code",
   "execution_count": 1,
   "id": "d779a440",
   "metadata": {},
   "outputs": [
    {
     "name": "stdout",
     "output_type": "stream",
     "text": [
      "Enter a = -7\n",
      "Enter b = 0\n",
      "b is greater than a\n"
     ]
    }
   ],
   "source": [
    "a = int(input('Enter a = '))\n",
    "b = int(input(\"Enter b = \"))\n",
    "if a>b:\n",
    "    print(\"a is greater than b\")\n",
    "elif b>a:\n",
    "    print(\"b is greater than a\")\n",
    "else:\n",
    "    print(\"a and b are equal\")"
   ]
  },
  {
   "cell_type": "code",
   "execution_count": 14,
   "id": "b02fadc1",
   "metadata": {},
   "outputs": [
    {
     "name": "stdout",
     "output_type": "stream",
     "text": [
      "Enter a = 3\n",
      "Enter b = 5\n",
      "Enter + or - or * or / +\n",
      "8\n"
     ]
    }
   ],
   "source": [
    "a = int(input(\"Enter a = \"))\n",
    "b = int(input(\"Enter b = \"))\n",
    "o = input (\"Enter + or - or * or / \")\n",
    "if o == \"+\": #to make o equal to +, we use comparison operator ==. compare garna rakheko. \n",
    "    print(a+b)\n",
    "elif o == \"-\":\n",
    "    print (a-b)\n",
    "elif o == \"*\":\n",
    "    print (a*b)\n",
    "elif o == \"/\":\n",
    "    print (a/b)\n",
    "else:\n",
    "    print (\"Enter valid operator\")"
   ]
  },
  {
   "cell_type": "code",
   "execution_count": 15,
   "id": "6b817617",
   "metadata": {},
   "outputs": [
    {
     "name": "stdout",
     "output_type": "stream",
     "text": [
      "Enter physics marks70\n",
      "Enter chemistry marks45\n",
      "Enter math marks79\n",
      "Enter english marks50\n",
      "Enter nepali marks66\n",
      "Total =  310\n",
      "Per =  62.0\n",
      "Grade =  B\n"
     ]
    }
   ],
   "source": [
    "physics = int(input(\"Enter physics marks\"))\n",
    "chemistry = int(input(\"Enter chemistry marks\"))\n",
    "math = int(input(\"Enter math marks\"))\n",
    "english = int(input(\"Enter english marks\"))\n",
    "nepali = int(input(\"Enter nepali marks\"))\n",
    "\n",
    "\n",
    "total = physics + chemistry + math + english + nepali\n",
    "\n",
    "per = total/5\n",
    "\n",
    "if per >= 80:\n",
    "    grade = \"A\"\n",
    "elif per >=60:\n",
    "    grade = \"B\"\n",
    "elif per >=45:\n",
    "    grade = \"C\"\n",
    "else:\n",
    "    grade = \"F\"\n",
    "    \n",
    "print(\"Total = \", total)\n",
    "print(\"Per = \", per)\n",
    "print (\"Grade = \", grade)"
   ]
  },
  {
   "cell_type": "code",
   "execution_count": null,
   "id": "1d5490ea",
   "metadata": {},
   "outputs": [],
   "source": []
  }
 ],
 "metadata": {
  "kernelspec": {
   "display_name": "Python 3 (ipykernel)",
   "language": "python",
   "name": "python3"
  },
  "language_info": {
   "codemirror_mode": {
    "name": "ipython",
    "version": 3
   },
   "file_extension": ".py",
   "mimetype": "text/x-python",
   "name": "python",
   "nbconvert_exporter": "python",
   "pygments_lexer": "ipython3",
   "version": "3.11.5"
  }
 },
 "nbformat": 4,
 "nbformat_minor": 5
}
