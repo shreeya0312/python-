{
 "cells": [
  {
   "cell_type": "code",
   "execution_count": 1,
   "id": "8526d77d",
   "metadata": {},
   "outputs": [],
   "source": [
    "#while loop\n"
   ]
  },
  {
   "cell_type": "code",
   "execution_count": 2,
   "id": "9df74399",
   "metadata": {},
   "outputs": [
    {
     "name": "stdout",
     "output_type": "stream",
     "text": [
      "0\n",
      "1\n",
      "2\n",
      "3\n",
      "4\n",
      "5\n"
     ]
    }
   ],
   "source": [
    "a=0\n",
    "while a<=5:\n",
    "    print(a)\n",
    "    a=a+1 #manually a ko value increase garnu parcha in while loop. a ko value lai 1 le increament gardai jau"
   ]
  },
  {
   "cell_type": "code",
   "execution_count": 3,
   "id": "fdecbfa3",
   "metadata": {},
   "outputs": [
    {
     "name": "stdout",
     "output_type": "stream",
     "text": [
      "0 Hello World\n",
      "1 Hello World\n",
      "2 Hello World\n",
      "3 Hello World\n",
      "4 Hello World\n"
     ]
    }
   ],
   "source": [
    "a=0\n",
    "while a<5:\n",
    "    print (a, \"Hello World\")\n",
    "    a=a+1"
   ]
  },
  {
   "cell_type": "code",
   "execution_count": 4,
   "id": "2d213ba2",
   "metadata": {},
   "outputs": [
    {
     "name": "stdout",
     "output_type": "stream",
     "text": [
      "Enter n = 8\n",
      "8\n",
      "16\n",
      "24\n",
      "32\n",
      "40\n",
      "48\n",
      "56\n",
      "64\n",
      "72\n",
      "80\n"
     ]
    }
   ],
   "source": [
    "#write a program to create a multiplication table\n",
    "i = 1\n",
    "n = int(input(\"Enter n = \"))\n",
    "while i<=10:\n",
    "    print (n*i)\n",
    "    i=i+1 #i=1, i=1+1=2, i = 2+1 = 3 and so on. This line does i increament by 1\n",
    "    "
   ]
  },
  {
   "cell_type": "code",
   "execution_count": 5,
   "id": "fca57fca",
   "metadata": {},
   "outputs": [
    {
     "name": "stdout",
     "output_type": "stream",
     "text": [
      "Enter n = 6\n",
      "Enter x = 9\n",
      "Enter x = 90\n",
      "Enter x = 87\n",
      "Enter x = 89\n",
      "Enter x = 90\n",
      "Enter x = 90\n",
      "Sum =  455\n"
     ]
    }
   ],
   "source": [
    "i = 0\n",
    "s = 0\n",
    "n = int(input(\"Enter n = \"))\n",
    "while i<n:\n",
    "    x=int(input(\"Enter x = \"))\n",
    "    s=s+x\n",
    "    i=i+1\n",
    "print (\"Sum = \", s)"
   ]
  },
  {
   "cell_type": "code",
   "execution_count": 5,
   "id": "d7d554fc",
   "metadata": {},
   "outputs": [
    {
     "name": "stdout",
     "output_type": "stream",
     "text": [
      "Enter n = 5\n",
      "1\n",
      "2\n",
      "6\n",
      "24\n",
      "120\n"
     ]
    }
   ],
   "source": [
    "# 5 factorial\n",
    "i= 1\n",
    "fac = 1\n",
    "n=int (input(\"Enter n = \"))\n",
    "while i<=n:\n",
    "    fac = fac*i \n",
    "    i=i+1\n",
    "    print(fac)"
   ]
  },
  {
   "cell_type": "code",
   "execution_count": 6,
   "id": "e275ea70",
   "metadata": {},
   "outputs": [
    {
     "name": "stdout",
     "output_type": "stream",
     "text": [
      "Enter n = 5\n",
      "Enter name = Shreeya\n",
      "Enter phone no. 9742536480\n",
      "Enter name = sidd\n",
      "Enter phone no. 987654321\n",
      "Enter name = ma\n",
      "Enter phone no. 98847829192\n",
      "Enter name = ba\n",
      "Enter phone no. 3998492001\n",
      "Enter name = lucy\n",
      "Enter phone no. 83992019394\n",
      "Shreeya 9742536480\n",
      "sidd 987654321\n",
      "ma 98847829192\n",
      "ba 3998492001\n",
      "lucy 83992019394\n",
      "\n"
     ]
    }
   ],
   "source": [
    "s = \"\"\n",
    "i=0\n",
    "n= int(input(\"Enter n = \"))\n",
    "while i<n:\n",
    "    name = input(\"Enter name = \")\n",
    "    phone = input(\"Enter phone no. \")\n",
    "    s = s + name +\" \"+ phone + \"\\n\"\n",
    "    i=i+1\n",
    "print (s)"
   ]
  },
  {
   "cell_type": "code",
   "execution_count": 7,
   "id": "6397752b",
   "metadata": {},
   "outputs": [],
   "source": [
    "#control statement in while loop"
   ]
  },
  {
   "cell_type": "code",
   "execution_count": 8,
   "id": "1d2b5b96",
   "metadata": {},
   "outputs": [
    {
     "name": "stdout",
     "output_type": "stream",
     "text": [
      "0\n",
      "1\n",
      "2\n",
      "3\n",
      "4\n"
     ]
    }
   ],
   "source": [
    "i=0\n",
    "while i<10:\n",
    "    if i==5:\n",
    "        break\n",
    "    print (i)\n",
    "    i=i+1"
   ]
  },
  {
   "cell_type": "code",
   "execution_count": 1,
   "id": "3a36923c",
   "metadata": {},
   "outputs": [
    {
     "name": "stdout",
     "output_type": "stream",
     "text": [
      "0\n",
      "1\n",
      "2\n",
      "3\n",
      "4\n",
      "6\n",
      "7\n",
      "8\n",
      "9\n"
     ]
    }
   ],
   "source": [
    "i=0\n",
    "while i<10:\n",
    "    if i==5:\n",
    "        i=i+1\n",
    "        continue\n",
    "    print (i)\n",
    "    i=i+1"
   ]
  },
  {
   "cell_type": "code",
   "execution_count": 3,
   "id": "1717270c",
   "metadata": {},
   "outputs": [
    {
     "name": "stdout",
     "output_type": "stream",
     "text": [
      "0\n",
      "0.5\n",
      "1.0\n",
      "1.5\n",
      "2.0\n",
      "2.5\n",
      "3.0\n",
      "3.5\n",
      "4.0\n",
      "4.5\n",
      "5.0\n",
      "5.5\n",
      "6.0\n",
      "6.5\n",
      "7.0\n",
      "7.5\n",
      "8.0\n",
      "8.5\n",
      "9.0\n",
      "9.5\n"
     ]
    }
   ],
   "source": [
    "#can also increase value of i in decimal in while loop\n",
    "\n",
    "i=0\n",
    "while i<10:\n",
    "    print(i)\n",
    "    i= i+0.5"
   ]
  },
  {
   "cell_type": "code",
   "execution_count": null,
   "id": "4bff4144",
   "metadata": {},
   "outputs": [],
   "source": [
    "#WAP to find if the given number is prime or composite\n",
    "prime-> 2,3,5,7,9,11,13,17,19\n",
    "Composite Number-> 4,6,8,9,10,12\n",
    "\n"
   ]
  }
 ],
 "metadata": {
  "kernelspec": {
   "display_name": "Python 3 (ipykernel)",
   "language": "python",
   "name": "python3"
  },
  "language_info": {
   "codemirror_mode": {
    "name": "ipython",
    "version": 3
   },
   "file_extension": ".py",
   "mimetype": "text/x-python",
   "name": "python",
   "nbconvert_exporter": "python",
   "pygments_lexer": "ipython3",
   "version": "3.11.5"
  }
 },
 "nbformat": 4,
 "nbformat_minor": 5
}
