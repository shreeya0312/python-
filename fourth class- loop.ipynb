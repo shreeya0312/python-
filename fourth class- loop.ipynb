{
 "cells": [
  {
   "cell_type": "code",
   "execution_count": 1,
   "id": "7f82c4a1",
   "metadata": {},
   "outputs": [],
   "source": [
    "#for loop\n",
    "#while loop"
   ]
  },
  {
   "cell_type": "code",
   "execution_count": 3,
   "id": "6494aa3f",
   "metadata": {},
   "outputs": [],
   "source": [
    "#for loop\n",
    "#range (5)             #5 times loop garna khojeko 0,1,2,3,4\n",
    "#range (1,5)           #1,2,3,4\n",
    "#range (1,10,2)        #increament by two. 1,3,5,7,9 "
   ]
  },
  {
   "cell_type": "code",
   "execution_count": 4,
   "id": "4e2590b1",
   "metadata": {},
   "outputs": [
    {
     "name": "stdout",
     "output_type": "stream",
     "text": [
      "0\n",
      "1\n",
      "2\n",
      "3\n",
      "4\n"
     ]
    }
   ],
   "source": [
    "for i in range(5):\n",
    "    print(i)"
   ]
  },
  {
   "cell_type": "code",
   "execution_count": 5,
   "id": "ba59a345",
   "metadata": {},
   "outputs": [
    {
     "name": "stdout",
     "output_type": "stream",
     "text": [
      "0 Hello World\n",
      "1 Hello World\n",
      "2 Hello World\n",
      "3 Hello World\n",
      "4 Hello World\n"
     ]
    }
   ],
   "source": [
    "for i in range(5):\n",
    "    print(i, \"Hello World\")"
   ]
  },
  {
   "cell_type": "code",
   "execution_count": 6,
   "id": "c1176cac",
   "metadata": {},
   "outputs": [
    {
     "name": "stdout",
     "output_type": "stream",
     "text": [
      "1 Hello World\n",
      "2 Hello World\n",
      "3 Hello World\n",
      "4 Hello World\n"
     ]
    }
   ],
   "source": [
    "for i in range(1,5):\n",
    "    print(i, \"Hello World\")"
   ]
  },
  {
   "cell_type": "code",
   "execution_count": 5,
   "id": "087c2b62",
   "metadata": {},
   "outputs": [
    {
     "name": "stdout",
     "output_type": "stream",
     "text": [
      "1 Hello World\n",
      "3 Hello World\n",
      "5 Hello World\n",
      "7 Hello World\n",
      "9 Hello World\n"
     ]
    }
   ],
   "source": [
    "for i in range(1,10,2): #increament by 2\n",
    "    print(i, \"Hello World\")"
   ]
  },
  {
   "cell_type": "code",
   "execution_count": 9,
   "id": "e6592ba6",
   "metadata": {},
   "outputs": [
    {
     "name": "stdout",
     "output_type": "stream",
     "text": [
      "5 Hello World\n",
      "4 Hello World\n",
      "3 Hello World\n",
      "2 Hello World\n",
      "1 Hello World\n",
      "0 Hello World\n"
     ]
    }
   ],
   "source": [
    "for i in range(5,-1,-1):\n",
    "    print(i, \"Hello World\")"
   ]
  },
  {
   "cell_type": "code",
   "execution_count": 10,
   "id": "512b52d8",
   "metadata": {},
   "outputs": [
    {
     "name": "stdout",
     "output_type": "stream",
     "text": [
      "5 Hello World\n",
      "4 Hello World\n",
      "3 Hello World\n",
      "2 Hello World\n",
      "1 Hello World\n",
      "0 Hello World\n",
      "-1 Hello World\n"
     ]
    }
   ],
   "source": [
    "for i in range(5,-2,-1):\n",
    "    print(i, \"Hello World\")"
   ]
  },
  {
   "cell_type": "code",
   "execution_count": 13,
   "id": "8ccf088c",
   "metadata": {},
   "outputs": [
    {
     "name": "stdout",
     "output_type": "stream",
     "text": [
      "Enter n = 2\n",
      "2 * 1 = 2\n",
      "2 * 2 = 4\n",
      "2 * 3 = 6\n",
      "2 * 4 = 8\n",
      "2 * 5 = 10\n",
      "2 * 6 = 12\n",
      "2 * 7 = 14\n",
      "2 * 8 = 16\n",
      "2 * 9 = 18\n",
      "2 * 10 = 20\n"
     ]
    }
   ],
   "source": [
    "#Write a program to create a multiplication table\n",
    "\n",
    "n = int(input(\"Enter n = \"))\n",
    "for i in range (1,11):\n",
    "    print (n, \"*\",i, \"=\", n*i)"
   ]
  },
  {
   "cell_type": "code",
   "execution_count": 1,
   "id": "c870f330",
   "metadata": {},
   "outputs": [
    {
     "name": "stdout",
     "output_type": "stream",
     "text": [
      "Enter x = 4\n",
      "You entered  4\n",
      "Enter x = 3\n",
      "You entered  3\n",
      "Enter x = 5\n",
      "You entered  5\n",
      "Enter x = 6\n",
      "You entered  6\n",
      "Enter x = 5\n",
      "You entered  5\n"
     ]
    }
   ],
   "source": [
    "for i in range (5):\n",
    "    x = int(input(\"Enter x = \"))\n",
    "    print (\"You entered \", x)"
   ]
  },
  {
   "cell_type": "code",
   "execution_count": 2,
   "id": "edbfa34d",
   "metadata": {},
   "outputs": [
    {
     "name": "stdout",
     "output_type": "stream",
     "text": [
      "Enter n = 5\n",
      "Enter x = 1000\n",
      "1000\n",
      "Enter x = 3000\n",
      "4000\n",
      "Enter x = 4000\n",
      "8000\n",
      "Enter x = 6000\n",
      "14000\n",
      "Enter x = 8000\n",
      "22000\n"
     ]
    }
   ],
   "source": [
    "s=0\n",
    "n= int(input(\"Enter n = \"))\n",
    "for i in range(n):\n",
    "    x = int(input(\"Enter x = \"))\n",
    "    s = s+x\n",
    "    print (s)\n",
    "    "
   ]
  },
  {
   "cell_type": "code",
   "execution_count": 4,
   "id": "2c2ecd8b",
   "metadata": {},
   "outputs": [
    {
     "name": "stdout",
     "output_type": "stream",
     "text": [
      "Enter n = 5\n",
      "Enter x = 56\n",
      "Enter x = 56\n",
      "Enter x = 54\n",
      "Enter x = 34\n",
      "Enter x = 34\n",
      "Sum =  234\n"
     ]
    }
   ],
   "source": [
    "s=0\n",
    "n= int(input(\"Enter n = \"))\n",
    "for i in range(n):\n",
    "    x = int(input(\"Enter x = \"))\n",
    "    s = s+x\n",
    "print (\"Sum = \", s)\n",
    "    "
   ]
  },
  {
   "cell_type": "code",
   "execution_count": 5,
   "id": "af5169db",
   "metadata": {},
   "outputs": [
    {
     "name": "stdout",
     "output_type": "stream",
     "text": [
      "Enter n = 2\n",
      "Enter x = Apple \n",
      "Enter x = Ball\n",
      "Apple Ball\n"
     ]
    }
   ],
   "source": [
    "#s = str()\n",
    "s = \"\"\n",
    "n= int(input(\"Enter n = \"))\n",
    "for i in range(n):\n",
    "    x = input(\"Enter x = \")\n",
    "    s = s+x\n",
    "print (s)"
   ]
  },
  {
   "cell_type": "code",
   "execution_count": 6,
   "id": "89dd3202",
   "metadata": {},
   "outputs": [
    {
     "name": "stdout",
     "output_type": "stream",
     "text": [
      "Enter n = 2\n",
      "Enter x = Ram\n",
      "Enter x = Sita\n",
      "Ram\n",
      "Sita\n",
      "\n"
     ]
    }
   ],
   "source": [
    "s = \"\"\n",
    "n= int(input(\"Enter n = \"))\n",
    "for i in range(n):\n",
    "    x = input(\"Enter x = \")\n",
    "    s = s+x + \"\\n\"\n",
    "print (s)"
   ]
  },
  {
   "cell_type": "code",
   "execution_count": 1,
   "id": "ecb3c66c",
   "metadata": {},
   "outputs": [
    {
     "name": "stdout",
     "output_type": "stream",
     "text": [
      "Enter n = 2\n",
      "Enter name = ram\n",
      "Enter phone no. 67890023\n",
      "Enter name = sita\n",
      "Enter phone no. 638729022\n",
      "ram 67890023\n",
      "sita 638729022\n",
      "\n"
     ]
    }
   ],
   "source": [
    "s = \"\"\n",
    "n= int(input(\"Enter n = \"))\n",
    "for i in range(n):\n",
    "    name = input(\"Enter name = \")\n",
    "    phone = input(\"Enter phone no. \")\n",
    "    s = s + name +\" \"+ phone + \"\\n\"\n",
    "print (s)\n"
   ]
  },
  {
   "cell_type": "code",
   "execution_count": null,
   "id": "ce421696",
   "metadata": {},
   "outputs": [],
   "source": []
  },
  {
   "cell_type": "code",
   "execution_count": null,
   "id": "71fc27ed",
   "metadata": {},
   "outputs": [],
   "source": []
  },
  {
   "cell_type": "code",
   "execution_count": null,
   "id": "cc28db41",
   "metadata": {},
   "outputs": [],
   "source": []
  }
 ],
 "metadata": {
  "kernelspec": {
   "display_name": "Python 3 (ipykernel)",
   "language": "python",
   "name": "python3"
  },
  "language_info": {
   "codemirror_mode": {
    "name": "ipython",
    "version": 3
   },
   "file_extension": ".py",
   "mimetype": "text/x-python",
   "name": "python",
   "nbconvert_exporter": "python",
   "pygments_lexer": "ipython3",
   "version": "3.11.5"
  }
 },
 "nbformat": 4,
 "nbformat_minor": 5
}
