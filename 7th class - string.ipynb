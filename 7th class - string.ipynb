{
 "cells": [
  {
   "cell_type": "code",
   "execution_count": 1,
   "id": "5c43a093",
   "metadata": {},
   "outputs": [
    {
     "name": "stdout",
     "output_type": "stream",
     "text": [
      "<class 'str'>\n",
      "<class 'str'>\n",
      "<class 'str'>\n"
     ]
    }
   ],
   "source": [
    "#string\n",
    "a = 'Hello World'\n",
    "b = \"Hello World\"\n",
    "c = '''Hello World'''\n",
    "\n",
    "print (type(a))\n",
    "print (type(b))\n",
    "print (type(c))"
   ]
  },
  {
   "cell_type": "code",
   "execution_count": 3,
   "id": "b8ba0104",
   "metadata": {},
   "outputs": [
    {
     "name": "stdout",
     "output_type": "stream",
     "text": [
      "Hello World\n"
     ]
    }
   ],
   "source": [
    "a = \"Hello \"\n",
    "b = \"World\"\n",
    "c = a+b\n",
    "print(c)"
   ]
  },
  {
   "cell_type": "code",
   "execution_count": 5,
   "id": "64ecc047",
   "metadata": {},
   "outputs": [
    {
     "name": "stdout",
     "output_type": "stream",
     "text": [
      "hello world \n",
      "hello world \n",
      "\n"
     ]
    }
   ],
   "source": [
    "a = \"hello world \\n\"\n",
    "print (a*2)"
   ]
  },
  {
   "cell_type": "code",
   "execution_count": 7,
   "id": "26ac1b3e",
   "metadata": {},
   "outputs": [
    {
     "name": "stdout",
     "output_type": "stream",
     "text": [
      "H\n",
      "d\n"
     ]
    }
   ],
   "source": [
    "a = \"Hello World\"\n",
    "print (a[0]) #the value of H is indexed in 0\n",
    "print (a[-1]) #if we want to do it backwards, we do -1. "
   ]
  },
  {
   "cell_type": "code",
   "execution_count": 8,
   "id": "e471ebc3",
   "metadata": {},
   "outputs": [
    {
     "name": "stdout",
     "output_type": "stream",
     "text": [
      "Hello\n",
      "HloWr\n"
     ]
    }
   ],
   "source": [
    "a = \"Hello World\"\n",
    "print (a[0:5]) #0 dekhi 5 samma ko value return gara. also called string slicing \n",
    "print (a[0:10:2]) #index 2 le increament gareko "
   ]
  },
  {
   "cell_type": "code",
   "execution_count": 10,
   "id": "6afef117",
   "metadata": {},
   "outputs": [
    {
     "name": "stdout",
     "output_type": "stream",
     "text": [
      "11\n"
     ]
    }
   ],
   "source": [
    "a = \"Hello World\"\n",
    "print(len(a))"
   ]
  },
  {
   "cell_type": "code",
   "execution_count": 11,
   "id": "e3977a4b",
   "metadata": {},
   "outputs": [
    {
     "name": "stdout",
     "output_type": "stream",
     "text": [
      "Hello World"
     ]
    }
   ],
   "source": [
    "a = \"Hello World\"\n",
    "for i in range(len(a)):\n",
    "    print (a[i], end = \"\")"
   ]
  },
  {
   "cell_type": "code",
   "execution_count": 13,
   "id": "3477fc5f",
   "metadata": {},
   "outputs": [
    {
     "name": "stdout",
     "output_type": "stream",
     "text": [
      "Hello World"
     ]
    }
   ],
   "source": [
    "#doing above code in while loop\n",
    "\n",
    "i = 0\n",
    "a = \"Hello World\"\n",
    "while i<len(a):\n",
    "    print (a[i] , end = \"\")\n",
    "    i=i+1"
   ]
  },
  {
   "cell_type": "code",
   "execution_count": 17,
   "id": "20c9b6fd",
   "metadata": {},
   "outputs": [
    {
     "name": "stdout",
     "output_type": "stream",
     "text": [
      "Hello World I am Ram. I am from Kathmandu. I am 67\n"
     ]
    }
   ],
   "source": [
    "#string formatting\n",
    "\n",
    "name = \"Ram\"\n",
    "age  = 67\n",
    "address = \"Kathmandu\"\n",
    "\n",
    "#info = \"Hello World, I am \" + name + \"I am from \" + address + \"I am \" + str(age) #too old\n",
    "info = f\"Hello World I am {name}. I am from {address}. I am {age}\"\n",
    "print(info)\n",
    "\n",
    "#f means we are formatting it. "
   ]
  },
  {
   "cell_type": "code",
   "execution_count": 19,
   "id": "50edaad8",
   "metadata": {},
   "outputs": [
    {
     "name": "stdout",
     "output_type": "stream",
     "text": [
      "Enter n = 2\n",
      "Enter name = Ram\n",
      "Enter phone no. 98765333345\n",
      "Enter name = Sita\n",
      "Enter phone no. 98709877766\n",
      "Ram 98765333345 \n",
      "Sita 98709877766 \n",
      "\n"
     ]
    }
   ],
   "source": [
    "s = \"\"\n",
    "i=0\n",
    "n= int(input(\"Enter n = \"))\n",
    "while i<n:\n",
    "    name = input(\"Enter name = \")\n",
    "    phone = input(\"Enter phone no. \")\n",
    "    s = s + f\"{name} {phone} \\n\"\n",
    "    i=i+1\n",
    "print (s)"
   ]
  },
  {
   "cell_type": "code",
   "execution_count": 20,
   "id": "a6bc2f35",
   "metadata": {},
   "outputs": [
    {
     "name": "stdout",
     "output_type": "stream",
     "text": [
      "Enter search value = Ram\n",
      "Yes\n"
     ]
    }
   ],
   "source": [
    "#search in string\n",
    "a = \"Ram Shyam Hari Sita Gita Nabin\"\n",
    "search = input (\"Enter search value = \")\n",
    "if search in a:\n",
    "    print (\"Yes\")\n",
    "else:\n",
    "    print (\"No\")    #case sensitive\n"
   ]
  },
  {
   "cell_type": "code",
   "execution_count": 22,
   "id": "97543df2",
   "metadata": {},
   "outputs": [
    {
     "name": "stdout",
     "output_type": "stream",
     "text": [
      "RAM SHYAM HARI SITA GITA NABIN\n",
      "ram shyam hari sita gita nabin\n",
      "Ram Shyam Hari Sita Gita Nabin\n"
     ]
    }
   ],
   "source": [
    "a = \"Ram Shyam Hari Sita Gita Nabin\"\n",
    "print(a.upper())\n",
    "print(a.lower())\n",
    "print (a)"
   ]
  },
  {
   "cell_type": "code",
   "execution_count": 23,
   "id": "d0230535",
   "metadata": {},
   "outputs": [
    {
     "name": "stdout",
     "output_type": "stream",
     "text": [
      "Enter search value = ram\n",
      "Yes\n",
      "1\n"
     ]
    }
   ],
   "source": [
    "a = \"Ram Shyam Hari Sita Gita Nabin\".lower()\n",
    "search = input (\"Enter search value = \").lower()\n",
    "if search in a:\n",
    "    print (\"Yes\")\n",
    "    print (a.count(search))\n",
    "else:\n",
    "    print (\"No\")\n",
    "\n"
   ]
  },
  {
   "cell_type": "code",
   "execution_count": 25,
   "id": "2df72493",
   "metadata": {},
   "outputs": [
    {
     "name": "stdout",
     "output_type": "stream",
     "text": [
      "ram Shyam Hari Sita Gita Nabin ramesh\n"
     ]
    }
   ],
   "source": [
    "#how to change string ma raheko values\n",
    "#replace()\n",
    "a = \"Ram Shyam Hari Sita Gita Nabin Ramesh\"\n",
    "a= a.replace ('Ram', 'ram')\n",
    "print(a)\n"
   ]
  },
  {
   "cell_type": "code",
   "execution_count": 26,
   "id": "18ee1e2b",
   "metadata": {},
   "outputs": [
    {
     "name": "stdout",
     "output_type": "stream",
     "text": [
      "Ram Shyam  Sita Gita Nabin Ramesh\n"
     ]
    }
   ],
   "source": [
    "#get rid of Hari\n",
    "a = \"Ram Shyam Hari Sita Gita Nabin Ramesh\"\n",
    "a= a.replace ('Hari', '')\n",
    "print(a)\n"
   ]
  },
  {
   "cell_type": "code",
   "execution_count": 27,
   "id": "bc6572b8",
   "metadata": {},
   "outputs": [],
   "source": [
    "#mutable data type ma yo sab garnu milcha. immutable data types ma mildaina\n"
   ]
  },
  {
   "cell_type": "code",
   "execution_count": 28,
   "id": "7bab18c4",
   "metadata": {},
   "outputs": [
    {
     "data": {
      "text/plain": [
       "['Ram', 'Shyam', 'Hari', 'Sita', 'Gita', 'Nabin', 'Ramesh']"
      ]
     },
     "execution_count": 28,
     "metadata": {},
     "output_type": "execute_result"
    }
   ],
   "source": [
    "a = \"Ram Shyam Hari Sita Gita Nabin Ramesh\"\n",
    "a.split()"
   ]
  },
  {
   "cell_type": "code",
   "execution_count": null,
   "id": "9d6e9948",
   "metadata": {},
   "outputs": [],
   "source": [
    "#space lai indexing garera dekhau\n",
    "\n",
    "i = 0\n",
    "a = \"Hello World I am python\"\n",
    "while i<len(a):\n",
    "    print (a[i] , end = \"\")\n",
    "    i=i+1"
   ]
  }
 ],
 "metadata": {
  "kernelspec": {
   "display_name": "Python 3 (ipykernel)",
   "language": "python",
   "name": "python3"
  },
  "language_info": {
   "codemirror_mode": {
    "name": "ipython",
    "version": 3
   },
   "file_extension": ".py",
   "mimetype": "text/x-python",
   "name": "python",
   "nbconvert_exporter": "python",
   "pygments_lexer": "ipython3",
   "version": "3.11.5"
  }
 },
 "nbformat": 4,
 "nbformat_minor": 5
}
