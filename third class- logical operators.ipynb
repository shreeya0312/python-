{
 "cells": [
  {
   "cell_type": "code",
   "execution_count": 1,
   "id": "7670667c",
   "metadata": {},
   "outputs": [
    {
     "name": "stdout",
     "output_type": "stream",
     "text": [
      "False\n",
      "False\n",
      "False\n",
      "True\n"
     ]
    }
   ],
   "source": [
    "#logical operators\n",
    "# and &\n",
    "# or |\n",
    "\n",
    "print(True and False)\n",
    "print(False and True)\n",
    "print (False and False)\n",
    "print (True and True)"
   ]
  },
  {
   "cell_type": "code",
   "execution_count": 2,
   "id": "c1e6c0a8",
   "metadata": {},
   "outputs": [
    {
     "name": "stdout",
     "output_type": "stream",
     "text": [
      "True\n",
      "True\n",
      "False\n",
      "True\n"
     ]
    }
   ],
   "source": [
    "# or |\n",
    "\n",
    "print(True or False)\n",
    "print(False or True)\n",
    "print (False or False)\n",
    "print (True or True)"
   ]
  },
  {
   "cell_type": "code",
   "execution_count": 3,
   "id": "8c3eeefb",
   "metadata": {},
   "outputs": [
    {
     "name": "stdout",
     "output_type": "stream",
     "text": [
      "Enter a = 10\n",
      "Enter b = 0\n",
      "Enter + or - or * or / /\n",
      "The value of b cannot be 0\n"
     ]
    }
   ],
   "source": [
    "a = int(input(\"Enter a = \"))\n",
    "b = int(input(\"Enter b = \"))\n",
    "o = input (\"Enter + or - or * or / \")\n",
    "if o == \"+\": #to make o equal to +, we use comparison operator ==. compare garna rakheko. \n",
    "    print(a+b)\n",
    "elif o == \"-\":\n",
    "    print (a-b)\n",
    "elif o == \"*\":\n",
    "    print (a*b)\n",
    "elif o == \"/\" and b != 0:\n",
    "    print (a/b)\n",
    "elif o == \"/\" and b == 0:\n",
    "    print (\"The value of b cannot be 0\")\n",
    "else:\n",
    "    print (\"Enter valid operator\")"
   ]
  },
  {
   "cell_type": "code",
   "execution_count": 4,
   "id": "d50e5e75",
   "metadata": {},
   "outputs": [
    {
     "name": "stdout",
     "output_type": "stream",
     "text": [
      "Enter physics marks80\n",
      "Enter chemistry marks90\n",
      "Enter math marks70\n",
      "Enter english marks90\n",
      "Enter nepali marks90\n",
      "Total =  420\n",
      "Per =  84.0\n",
      "Grade =  A\n"
     ]
    }
   ],
   "source": [
    "physics = int(input(\"Enter physics marks\"))\n",
    "chemistry = int(input(\"Enter chemistry marks\"))\n",
    "math = int(input(\"Enter math marks\"))\n",
    "english = int(input(\"Enter english marks\"))\n",
    "nepali = int(input(\"Enter nepali marks\"))\n",
    "total = physics + chemistry + math + english + nepali\n",
    "\n",
    "per = total/5\n",
    "\n",
    "if per > 80 or per == 80:\n",
    "    grade = \"A\"\n",
    "elif per > 60 or per == 60:\n",
    "    grade = \"B\"\n",
    "elif per > 45 or per == 45:\n",
    "    grade = \"C\"\n",
    "else:\n",
    "    grade = \"F\"\n",
    "    \n",
    "print(\"Total = \", total)\n",
    "print(\"Per = \", per)\n",
    "print (\"Grade = \", grade)"
   ]
  },
  {
   "cell_type": "code",
   "execution_count": 7,
   "id": "0fc0f78d",
   "metadata": {},
   "outputs": [
    {
     "name": "stdout",
     "output_type": "stream",
     "text": [
      "Enter x = 9\n",
      "The value of x is positive and odd\n"
     ]
    }
   ],
   "source": [
    "x = int(input(\"Enter x = \"))\n",
    "if x>0 and x%2==0:\n",
    "    print(\"The value of x is positive and even\")\n",
    "elif x>0 and x%2!=0:\n",
    "    print(\"The value of x is positive and odd\")\n",
    "elif x<0 and x%2==0:\n",
    "    print(\"The value of x is negative and even\")\n",
    "else:\n",
    "    print(\"The value of x is negative and odd\")"
   ]
  },
  {
   "cell_type": "code",
   "execution_count": 8,
   "id": "093f8f16",
   "metadata": {},
   "outputs": [],
   "source": [
    "# nested if/else statement\n",
    "\n",
    "if <condition>:\n",
    "    if <condition>:\n",
    "        <operations>\n",
    "    else:\n",
    "        <operations>\n",
    "else:\n",
    "    if <condition>:\n",
    "        <operations>\n",
    "    else:\n",
    "        <operations>\n",
    "        "
   ]
  },
  {
   "cell_type": "code",
   "execution_count": 9,
   "id": "8ce2783c",
   "metadata": {},
   "outputs": [
    {
     "name": "stdout",
     "output_type": "stream",
     "text": [
      "Enter x = -7\n",
      "The number is -ve and odd\n"
     ]
    }
   ],
   "source": [
    "x = int(input(\"Enter x = \"))\n",
    "if x >= 0:\n",
    "    if x%2 == 0:\n",
    "        print (\"The value of x is +ve and even\")\n",
    "    else:\n",
    "        print (\"The value of x is +ve and odd\")\n",
    "        \n",
    "else:\n",
    "    if x%2 == 0:\n",
    "        print (\"The number is -ve and even\")\n",
    "    else:\n",
    "        print (\"The number is -ve and odd\")\n",
    "        "
   ]
  },
  {
   "cell_type": "code",
   "execution_count": 11,
   "id": "24825b65",
   "metadata": {},
   "outputs": [
    {
     "name": "stdout",
     "output_type": "stream",
     "text": [
      "Enter a = 4\n",
      "Enter b = 0\n",
      "Enter + or - or * or / /\n",
      "The value of b cannot be 0 while 0 = / \n"
     ]
    }
   ],
   "source": [
    "a = int(input(\"Enter a = \"))\n",
    "b = int(input(\"Enter b = \"))\n",
    "o = input (\"Enter + or - or * or / \")\n",
    "if o == \"+\": #to make o equal to +, we use comparison operator ==. compare garna rakheko. \n",
    "    print(a+b)\n",
    "elif o == \"-\":\n",
    "    print (a-b)\n",
    "elif o == \"*\":\n",
    "    print (a*b)\n",
    "elif o == \"/\":\n",
    "    if b!=0:\n",
    "        print (a/b)\n",
    "    else:\n",
    "        print (\"The value of b cannot be 0 while 0 = / \")\n",
    "else:\n",
    "    print (\"Enter valid operator\")"
   ]
  },
  {
   "cell_type": "code",
   "execution_count": 1,
   "id": "c9ee7af4",
   "metadata": {},
   "outputs": [
    {
     "name": "stdout",
     "output_type": "stream",
     "text": [
      "Enter physics marks90\n",
      "Enter chemistry marks90\n",
      "Enter math marks9\n",
      "Enter english marks80\n",
      "Enter nepali marks70\n",
      "Grade = F\n"
     ]
    }
   ],
   "source": [
    "physics = int(input(\"Enter physics marks\"))\n",
    "chemistry = int(input(\"Enter chemistry marks\"))\n",
    "math = int(input(\"Enter math marks\"))\n",
    "english = int(input(\"Enter english marks\"))\n",
    "nepali = int(input(\"Enter nepali marks\"))\n",
    "total = physics + chemistry + math + english + nepali\n",
    "\n",
    "per = total/5\n",
    "\n",
    "if physics >= 32 and chemistry >=32 and math >=32 and english >= 32 and nepali >= 32:\n",
    "    if per > 80 or per == 80:\n",
    "        grade = \"A\"\n",
    "    elif per > 60 or per == 60:\n",
    "        grade = \"B\"\n",
    "    elif per > 45 or per == 45:\n",
    "        grade = \"C\"\n",
    "    else:\n",
    "        grade = \"D\"\n",
    "    \n",
    "    print (\"Total = \", total)\n",
    "    print (\"Per = \", per)\n",
    "    print (\"Grade = \", grade)\n",
    "\n",
    "else:\n",
    "    print (\"Grade = F\")"
   ]
  },
  {
   "cell_type": "code",
   "execution_count": null,
   "id": "702dfd7a",
   "metadata": {},
   "outputs": [],
   "source": []
  }
 ],
 "metadata": {
  "kernelspec": {
   "display_name": "Python 3 (ipykernel)",
   "language": "python",
   "name": "python3"
  },
  "language_info": {
   "codemirror_mode": {
    "name": "ipython",
    "version": 3
   },
   "file_extension": ".py",
   "mimetype": "text/x-python",
   "name": "python",
   "nbconvert_exporter": "python",
   "pygments_lexer": "ipython3",
   "version": "3.11.5"
  }
 },
 "nbformat": 4,
 "nbformat_minor": 5
}
