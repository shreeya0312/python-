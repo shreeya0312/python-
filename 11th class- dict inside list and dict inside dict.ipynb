{
 "cells": [
  {
   "cell_type": "code",
   "execution_count": 2,
   "id": "5dbeb26d",
   "metadata": {},
   "outputs": [
    {
     "name": "stdout",
     "output_type": "stream",
     "text": [
      "[{'name': 'Ram', 'age': 34, 'add': 'Kathmandu'}, {'name': 'Shyam', 'age': 66, 'add': 'Bhaktapur'}, {'name': 'Hari', 'age': 33, 'add': 'Lalitpur'}, {'name': 'Sita', 'age': 24, 'add': 'Kathmandu'}]\n"
     ]
    }
   ],
   "source": [
    "#dictionary inside list\n",
    "d = [{'name': 'Ram' , 'age': 34, 'add': \"Kathmandu\"},\n",
    "    {'name': 'Shyam' , 'age': 66, 'add': \"Bhaktapur\"},\n",
    "    {'name': 'Hari' , 'age': 33, 'add': \"Lalitpur\"},\n",
    "    {'name': 'Sita' , 'age': 24, 'add': \"Kathmandu\"}]\n",
    "      \n",
    "print(d)"
   ]
  },
  {
   "cell_type": "code",
   "execution_count": 3,
   "id": "070e678f",
   "metadata": {},
   "outputs": [
    {
     "name": "stdout",
     "output_type": "stream",
     "text": [
      "{'name': 'Ram', 'age': 34, 'add': 'Kathmandu'}\n",
      "Ram\n"
     ]
    }
   ],
   "source": [
    "print(d[0])\n",
    "print (d[0]['name'])"
   ]
  },
  {
   "cell_type": "code",
   "execution_count": 4,
   "id": "077805ec",
   "metadata": {},
   "outputs": [
    {
     "name": "stdout",
     "output_type": "stream",
     "text": [
      "Enter n = 2\n",
      "Enter name = ram\n",
      "Enter ntc no = 98877478383\n",
      "Enter ncell no = 988378299398\n",
      "Enter name = Shyam\n",
      "Enter ntc no = 988777382893\n",
      "Enter ncell no = 099838882993\n",
      "[{'name': 'ram', 'ntc': '98877478383', 'ncell': '988378299398'}, {'name': 'Shyam', 'ntc': '988777382893', 'ncell': '099838882993'}]\n"
     ]
    }
   ],
   "source": [
    "l= [] #append. list ma values add garney\n",
    "n = int(input (\"Enter n = \"))\n",
    "for i in range(n):\n",
    "    name = input (\"Enter name = \")\n",
    "    ntc = input (\"Enter ntc no = \")\n",
    "    ncell = input (\"Enter ncell no = \")\n",
    "    d = {'name' : name, 'ntc': ntc, 'ncell': ncell}\n",
    "    l.append(d)\n",
    "print(l)"
   ]
  },
  {
   "cell_type": "code",
   "execution_count": 6,
   "id": "cb597161",
   "metadata": {},
   "outputs": [
    {
     "data": {
      "text/plain": [
       "{'name': 'Shyam', 'ntc': '988777382893', 'ncell': '099838882993'}"
      ]
     },
     "execution_count": 6,
     "metadata": {},
     "output_type": "execute_result"
    }
   ],
   "source": [
    "l[1] #l ko 1 index ko value print gareko"
   ]
  },
  {
   "cell_type": "code",
   "execution_count": 7,
   "id": "a1df1ee8",
   "metadata": {},
   "outputs": [
    {
     "data": {
      "text/plain": [
       "[{'name': 'ram', 'ntc': '98877478383', 'ncell': '988378299398'}]"
      ]
     },
     "execution_count": 7,
     "metadata": {},
     "output_type": "execute_result"
    }
   ],
   "source": [
    "del l[1]\n",
    "l"
   ]
  },
  {
   "cell_type": "code",
   "execution_count": 8,
   "id": "e3c98a6a",
   "metadata": {},
   "outputs": [
    {
     "data": {
      "text/plain": [
       "{1: {'name': 'Ram', 'age': 34, 'add': 'Kathmandu'},\n",
       " 2: {'name': 'Shyam', 'age': 24, 'add': 'Bhaktapur'},\n",
       " 3: {'name': 'Hari', 'age': 14, 'add': 'Lalitpur'}}"
      ]
     },
     "execution_count": 8,
     "metadata": {},
     "output_type": "execute_result"
    }
   ],
   "source": [
    "#dict inside dict\n",
    "\n",
    "info = {1:{'name':'Ram', 'age':34,\"add\":\"Kathmandu\"},\n",
    "       2:{'name':'Shyam', 'age':24,\"add\":\"Bhaktapur\"},\n",
    "       3:{'name':'Hari', 'age':14,\"add\":\"Lalitpur\"}}\n",
    "info"
   ]
  },
  {
   "cell_type": "code",
   "execution_count": 10,
   "id": "a390abfc",
   "metadata": {},
   "outputs": [
    {
     "name": "stdout",
     "output_type": "stream",
     "text": [
      "{'name': 'Ram', 'age': 34, 'add': 'Kathmandu'}\n",
      "Ram\n"
     ]
    }
   ],
   "source": [
    "print (info[1])\n",
    "print (info[1]['name'])"
   ]
  },
  {
   "cell_type": "code",
   "execution_count": 12,
   "id": "cd5f2c2f",
   "metadata": {},
   "outputs": [
    {
     "name": "stdout",
     "output_type": "stream",
     "text": [
      "Enter n = 2\n",
      "Enter name = ram\n",
      "Enter age  = 34\n",
      "Enter add  = kathmandu\n",
      "Enter name = shyam\n",
      "Enter age  = 24\n",
      "Enter add  = bhaktappur\n",
      "{1: {'name': 'ram', 'age': '34', 'add': 'kathmandu'}, 2: {'name': 'shyam', 'age': '24', 'add': 'bhaktappur'}}\n"
     ]
    }
   ],
   "source": [
    "info = {}\n",
    "n = int(input (\"Enter n = \"))\n",
    "for i in range(1, n+1):\n",
    "    name = input (\"Enter name = \")\n",
    "    age = input (\"Enter age  = \")\n",
    "    add = input (\"Enter add  = \")\n",
    "    d = {'name':name, 'age': age, 'add': add}\n",
    "    info[i]=d #info bhanne dict ma i key rakha and print rest of the d \n",
    "print(info)"
   ]
  },
  {
   "cell_type": "code",
   "execution_count": 13,
   "id": "6c48cc8a",
   "metadata": {},
   "outputs": [],
   "source": [
    "#yo output ko beginning ma 1 and 2 aaos bhanera range ma 1,n+1 gareko. otherwise range normally starts from 0."
   ]
  },
  {
   "cell_type": "code",
   "execution_count": 14,
   "id": "17705549",
   "metadata": {},
   "outputs": [
    {
     "data": {
      "text/plain": [
       "{1: {'name': 'ram', 'age': '34', 'add': 'kathmandu'},\n",
       " 2: {'name': 'shyam', 'age': '24', 'add': 'bhaktappur'}}"
      ]
     },
     "execution_count": 14,
     "metadata": {},
     "output_type": "execute_result"
    }
   ],
   "source": [
    "info"
   ]
  },
  {
   "cell_type": "code",
   "execution_count": 16,
   "id": "cf95a108",
   "metadata": {},
   "outputs": [],
   "source": [
    "info[3] = {'name':'Akash', 'age': '18', 'add': 'kathmandu'}"
   ]
  },
  {
   "cell_type": "code",
   "execution_count": 17,
   "id": "fc67dded",
   "metadata": {},
   "outputs": [
    {
     "data": {
      "text/plain": [
       "{1: {'name': 'ram', 'age': '34', 'add': 'kathmandu'},\n",
       " 2: {'name': 'shyam', 'age': '24', 'add': 'bhaktappur'},\n",
       " 3: {'name': 'Akash', 'age': '18', 'add': 'kathmandu'}}"
      ]
     },
     "execution_count": 17,
     "metadata": {},
     "output_type": "execute_result"
    }
   ],
   "source": [
    "info"
   ]
  },
  {
   "cell_type": "code",
   "execution_count": 18,
   "id": "fc6afbb8",
   "metadata": {},
   "outputs": [
    {
     "data": {
      "text/plain": [
       "{1: {'name': 'ram', 'age': '34', 'add': 'kathmandu'},\n",
       " 2: {'name': 'shyam', 'age': '24', 'add': 'bhaktappur'},\n",
       " 3: {'name': 'Akash',\n",
       "  'age': '18',\n",
       "  'add': {'permanent': 'Dhading', 'temporary': 'Kathmandu'}}}"
      ]
     },
     "execution_count": 18,
     "metadata": {},
     "output_type": "execute_result"
    }
   ],
   "source": [
    "info[3]['add'] = {'permanent': 'Dhading', 'temporary': 'Kathmandu'}\n",
    "info"
   ]
  },
  {
   "cell_type": "code",
   "execution_count": null,
   "id": "4fcfa4e4",
   "metadata": {},
   "outputs": [],
   "source": []
  }
 ],
 "metadata": {
  "kernelspec": {
   "display_name": "Python 3 (ipykernel)",
   "language": "python",
   "name": "python3"
  },
  "language_info": {
   "codemirror_mode": {
    "name": "ipython",
    "version": 3
   },
   "file_extension": ".py",
   "mimetype": "text/x-python",
   "name": "python",
   "nbconvert_exporter": "python",
   "pygments_lexer": "ipython3",
   "version": "3.11.5"
  }
 },
 "nbformat": 4,
 "nbformat_minor": 5
}
