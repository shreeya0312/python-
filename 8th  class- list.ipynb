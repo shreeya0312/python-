{
 "cells": [
  {
   "cell_type": "code",
   "execution_count": null,
   "id": "61cd8974",
   "metadata": {},
   "outputs": [],
   "source": [
    "#python data collection\n",
    "#list\n",
    "#tuple\n",
    "#dict\n",
    "#set"
   ]
  },
  {
   "cell_type": "code",
   "execution_count": 2,
   "id": "3e59a39c",
   "metadata": {},
   "outputs": [],
   "source": [
    "#list le indexing follow garcha\n",
    "  #  -indexing\n",
    "  #  -multiple and duplicate data\n",
    "  #  -ordered\n",
    "  #  -mutable\n",
    "    "
   ]
  },
  {
   "cell_type": "code",
   "execution_count": 4,
   "id": "8ba1686d",
   "metadata": {},
   "outputs": [
    {
     "name": "stdout",
     "output_type": "stream",
     "text": [
      "<class 'list'>\n",
      "<class 'list'>\n"
     ]
    }
   ],
   "source": [
    "#l = list ()\n",
    "l = [\"Apple\",\"Ball\",\"Cat\",\"Dog\",\"Fish\"]\n",
    "a=[1,2,3,4,5,6,7,8,9,0]\n",
    "print(type(l))\n",
    "print(type(a))"
   ]
  },
  {
   "cell_type": "code",
   "execution_count": 5,
   "id": "55bd0292",
   "metadata": {},
   "outputs": [
    {
     "name": "stdout",
     "output_type": "stream",
     "text": [
      "Apple\n",
      "['Apple', 'Ball', 'Cat', 'Dog']\n",
      "['Apple', 'Cat', 'Fish']\n"
     ]
    }
   ],
   "source": [
    "l = [\"Apple\",\"Ball\",\"Cat\",\"Dog\",\"Fish\",\"Apple\"]\n",
    "print(l[0]) #list bhayera l lekheko. list define gareko. 0 is indexed with apple. so this will print apple.\n",
    "print(l[0:4])\n",
    "print(l[0:5:2])\n"
   ]
  },
  {
   "cell_type": "code",
   "execution_count": 6,
   "id": "d22aaf46",
   "metadata": {},
   "outputs": [
    {
     "name": "stdout",
     "output_type": "stream",
     "text": [
      "[1, 2, 3, 4, 5, 6, 7, 8, 9]\n"
     ]
    }
   ],
   "source": [
    "a=[1,2,3,4]\n",
    "b=[5,6,7,8,9]\n",
    "c=a+b\n",
    "print(c)"
   ]
  },
  {
   "cell_type": "code",
   "execution_count": 7,
   "id": "ad8ad816",
   "metadata": {},
   "outputs": [
    {
     "name": "stdout",
     "output_type": "stream",
     "text": [
      "[1, 2, 3, 4, 1, 2, 3, 4]\n"
     ]
    }
   ],
   "source": [
    "a= [1,2,3,4]\n",
    "print(a*2)"
   ]
  },
  {
   "cell_type": "code",
   "execution_count": 8,
   "id": "c77149ac",
   "metadata": {},
   "outputs": [
    {
     "name": "stdout",
     "output_type": "stream",
     "text": [
      "Apple\n",
      "Ball\n",
      "Cat\n",
      "Dog\n",
      "Fish\n",
      "Apple\n"
     ]
    }
   ],
   "source": [
    "l = [\"Apple\",\"Ball\",\"Cat\",\"Dog\",\"Fish\",\"Apple\"]\n",
    "for i in l:\n",
    "    print(i)"
   ]
  },
  {
   "cell_type": "code",
   "execution_count": 10,
   "id": "7d7c97e9",
   "metadata": {},
   "outputs": [
    {
     "name": "stdout",
     "output_type": "stream",
     "text": [
      "Enter search = apple\n",
      "No\n"
     ]
    }
   ],
   "source": [
    "l = [\"Apple\",\"Ball\",\"Cat\",\"Dog\",\"Fish\",\"Apple\"]\n",
    "search = input(\"Enter search = \")\n",
    "if search in l:\n",
    "    print (\"yes\")\n",
    "    print(l.count(search))\n",
    "else:\n",
    "    print(\"No\")"
   ]
  },
  {
   "cell_type": "code",
   "execution_count": 11,
   "id": "8f384e92",
   "metadata": {},
   "outputs": [],
   "source": [
    "#append() extend() insert() functions"
   ]
  },
  {
   "cell_type": "code",
   "execution_count": 12,
   "id": "0623125d",
   "metadata": {},
   "outputs": [
    {
     "name": "stdout",
     "output_type": "stream",
     "text": [
      "['Apple', 'Ball', 'Cat']\n"
     ]
    }
   ],
   "source": [
    "a = [] #mutable data type because use of append changes original value, original value = empty a\n",
    "a.append(\"Apple\")\n",
    "a.append(\"Ball\")\n",
    "a.append(\"Cat\")\n",
    "print (a)"
   ]
  },
  {
   "cell_type": "code",
   "execution_count": 18,
   "id": "1c028ccf",
   "metadata": {},
   "outputs": [
    {
     "name": "stdout",
     "output_type": "stream",
     "text": [
      "Enter n = 3\n",
      "Enter x = 45\n",
      "Enter x = 46\n",
      "Enter x = 57\n",
      "[45, 46, 57]\n"
     ]
    }
   ],
   "source": [
    "l=[]\n",
    "n=int(input(\"Enter n = \"))\n",
    "for i in range (n):\n",
    "    x=int(input(\"Enter x = \"))\n",
    "    l.append(x)\n",
    "    \n",
    "print(l)"
   ]
  },
  {
   "cell_type": "code",
   "execution_count": 20,
   "id": "63a6cd94",
   "metadata": {},
   "outputs": [
    {
     "name": "stdout",
     "output_type": "stream",
     "text": [
      "Maximum value =  234\n",
      "Minimum value =  12\n",
      "Sum of list =  405\n",
      "[12, 13, 23, 123, 234]\n"
     ]
    }
   ],
   "source": [
    "l=[13,23,123,234,12]\n",
    "print(\"Maximum value = \", max (l))\n",
    "print(\"Minimum value = \", min(l))\n",
    "print(\"Sum of list = \", sum(l))\n",
    "l.sort()\n",
    "print(l)"
   ]
  },
  {
   "cell_type": "code",
   "execution_count": 21,
   "id": "b6057d2a",
   "metadata": {},
   "outputs": [
    {
     "name": "stdout",
     "output_type": "stream",
     "text": [
      "['Apple', 'Ball', 'Cat', 'Zebra', 'ant']\n"
     ]
    }
   ],
   "source": [
    "a=[\"Ball\", \"Zebra\", \"Apple\", \"Cat\", \"ant\"] #small letter last ma dekhaucha\n",
    "a.sort()\n",
    "print(a)"
   ]
  },
  {
   "cell_type": "code",
   "execution_count": 22,
   "id": "c8ba08f1",
   "metadata": {},
   "outputs": [
    {
     "data": {
      "text/plain": [
       "['Ball', 'zebra', 'Zebra', 'Apple', 'Cat', 'ant']"
      ]
     },
     "execution_count": 22,
     "metadata": {},
     "output_type": "execute_result"
    }
   ],
   "source": [
    "a=[\"Ball\", \"Zebra\", \"Apple\", \"Cat\", \"ant\"]\n",
    "a.insert(1,\"zebra\")\n",
    "a"
   ]
  },
  {
   "cell_type": "code",
   "execution_count": 23,
   "id": "c75e27f8",
   "metadata": {},
   "outputs": [
    {
     "name": "stdout",
     "output_type": "stream",
     "text": [
      "[1, 2, 3, 4, 5, 6, 7, 8, 9, 0]\n"
     ]
    }
   ],
   "source": [
    "a=[1,2,3,4,5]\n",
    "b=[6,7,8,9,0]\n",
    "a.extend(b) #b ma raheko values lai a ma lagera rakha\n",
    "print(a)"
   ]
  },
  {
   "cell_type": "code",
   "execution_count": 24,
   "id": "a4a8af9f",
   "metadata": {},
   "outputs": [
    {
     "name": "stdout",
     "output_type": "stream",
     "text": [
      "['Zebra', 'Apple', 'Cat', 'ant']\n"
     ]
    }
   ],
   "source": [
    "a=[\"Ball\", \"Zebra\", \"Apple\", \"Cat\", \"ant\"]\n",
    "del a[0] #0 index ma raheko value delete garne \n",
    "print (a)"
   ]
  },
  {
   "cell_type": "code",
   "execution_count": 25,
   "id": "b4fd9fd6",
   "metadata": {},
   "outputs": [
    {
     "name": "stdout",
     "output_type": "stream",
     "text": [
      "['Cat', 'ant']\n"
     ]
    }
   ],
   "source": [
    "a=[\"Ball\", \"Zebra\", \"Apple\", \"Cat\", \"ant\"]\n",
    "del a[0:3] #0 dekhi 3 samma ko index ma raheko value delete garne \n",
    "print (a)\n"
   ]
  },
  {
   "cell_type": "code",
   "execution_count": 26,
   "id": "a2ad9cab",
   "metadata": {},
   "outputs": [
    {
     "name": "stdout",
     "output_type": "stream",
     "text": [
      "['Zebra', 'Apple', 'Ball', 'Cat', 'ant', 'Ball']\n"
     ]
    }
   ],
   "source": [
    "#remove\n",
    "a=[\"Ball\",\"Zebra\",\"Apple\",\"Ball\",\"Cat\",\"ant\",\"Ball\"]\n",
    "a.remove(\"Ball\")\n",
    "print(a)\n"
   ]
  },
  {
   "cell_type": "code",
   "execution_count": 27,
   "id": "5c7c107b",
   "metadata": {},
   "outputs": [],
   "source": [
    "#wap that will delete all Ball from above line\n",
    "a=[\"Ball\",\"Zebra\",\"Apple\",\"Ball\",\"Cat\",\"ant\",\"Ball\"]\n",
    "del a[0:3] #no no no cant use indexing to delete. because after removing 0, ball ko indexing changes. 3, ko value ball, now 2 huncha"
   ]
  },
  {
   "cell_type": "code",
   "execution_count": 29,
   "id": "4de0a100",
   "metadata": {},
   "outputs": [
    {
     "name": "stdout",
     "output_type": "stream",
     "text": [
      "['Zebra', 'Apple', 'Cat', 'ant']\n"
     ]
    }
   ],
   "source": [
    "a=[\"Ball\",\"Zebra\",\"Apple\",\"Ball\",\"Cat\",\"ant\",\"Ball\"]\n",
    "c=a.count(\"Ball\") #kati ota ball cha count gareko\n",
    "for i in range(c):\n",
    "    a.remove(\"Ball\")\n",
    "print(a)"
   ]
  },
  {
   "cell_type": "code",
   "execution_count": 30,
   "id": "09aa1ae7",
   "metadata": {},
   "outputs": [
    {
     "name": "stdout",
     "output_type": "stream",
     "text": [
      "0\n",
      "3\n",
      "6\n"
     ]
    }
   ],
   "source": [
    "#Ball kun kun index ma cha program lekha\n",
    "a=[\"Ball\",\"Zebra\",\"Apple\",\"Ball\",\"Cat\",\"ant\",\"Ball\"]\n",
    "c=len(a)\n",
    "for i in range (c): #7 choti loop chalako\n",
    "    if \"Ball\" == a[i]: #when i = 0, its true, as in ball is in 0. so print garcha. when i = 3, this statement is true. so print garcha. same for 6.\n",
    "        print(i)"
   ]
  },
  {
   "cell_type": "code",
   "execution_count": null,
   "id": "e29fff1a",
   "metadata": {},
   "outputs": [],
   "source": []
  }
 ],
 "metadata": {
  "kernelspec": {
   "display_name": "Python 3 (ipykernel)",
   "language": "python",
   "name": "python3"
  },
  "language_info": {
   "codemirror_mode": {
    "name": "ipython",
    "version": 3
   },
   "file_extension": ".py",
   "mimetype": "text/x-python",
   "name": "python",
   "nbconvert_exporter": "python",
   "pygments_lexer": "ipython3",
   "version": "3.11.5"
  }
 },
 "nbformat": 4,
 "nbformat_minor": 5
}
