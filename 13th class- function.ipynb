{
 "cells": [
  {
   "cell_type": "code",
   "execution_count": 1,
   "id": "26bdf432",
   "metadata": {},
   "outputs": [],
   "source": [
    "#function \n",
    "# pre defined function\n",
    "# user defined function\n"
   ]
  },
  {
   "cell_type": "code",
   "execution_count": 2,
   "id": "cea1803f",
   "metadata": {},
   "outputs": [],
   "source": [
    "#pre defined function\n",
    "#for ex. print(), int(), float(), str(), list(), tuple(), set(), dist()"
   ]
  },
  {
   "cell_type": "code",
   "execution_count": 3,
   "id": "9c53d157",
   "metadata": {},
   "outputs": [],
   "source": [
    "# def <function name>:\n",
    "#    <operations>\n",
    "    \n",
    "# <function_name>()"
   ]
  },
  {
   "cell_type": "code",
   "execution_count": 6,
   "id": "77ac37f9",
   "metadata": {},
   "outputs": [
    {
     "name": "stdout",
     "output_type": "stream",
     "text": [
      "Hello World\n"
     ]
    }
   ],
   "source": [
    "def hello():  #defining a function\n",
    "    print(\"Hello World\")\n",
    "    \n",
    "hello()   #calling the function"
   ]
  },
  {
   "cell_type": "code",
   "execution_count": 7,
   "id": "7954e22a",
   "metadata": {},
   "outputs": [
    {
     "name": "stdout",
     "output_type": "stream",
     "text": [
      "Enter l = 4\n",
      "Enter b = 5\n",
      "20\n"
     ]
    }
   ],
   "source": [
    "def area():     #difining function\n",
    "    l = int(input(\"Enter l = \"))  #local variable\n",
    "    b = int(input(\"Enter b = \"))  #local variable\n",
    "    a = l*b\n",
    "    print(a)\n",
    "    \n",
    "area() #calling the function"
   ]
  },
  {
   "cell_type": "code",
   "execution_count": 8,
   "id": "29602a47",
   "metadata": {},
   "outputs": [
    {
     "name": "stdout",
     "output_type": "stream",
     "text": [
      "Enter l = 4\n",
      "Enter b = 6\n",
      "24\n"
     ]
    }
   ],
   "source": [
    "def area():\n",
    "    a = l*b\n",
    "    print (a)\n",
    "    \n",
    "l = int(input(\"Enter l = \"))  #global variable because function bhanda bahira define gareko huna le global variable\n",
    "b = int(input(\"Enter b = \"))   #global variable\n",
    "area()\n"
   ]
  },
  {
   "cell_type": "code",
   "execution_count": 9,
   "id": "c94ed5a8",
   "metadata": {},
   "outputs": [],
   "source": [
    "#function with arguments"
   ]
  },
  {
   "cell_type": "code",
   "execution_count": 10,
   "id": "adeacb3f",
   "metadata": {},
   "outputs": [
    {
     "name": "stdout",
     "output_type": "stream",
     "text": [
      "50\n"
     ]
    }
   ],
   "source": [
    "def area(l,b):    #parameter\n",
    "    a = l*b\n",
    "    print(a)\n",
    "    \n",
    "area (10,5)       #arguments"
   ]
  },
  {
   "cell_type": "code",
   "execution_count": 11,
   "id": "b27eda3a",
   "metadata": {},
   "outputs": [
    {
     "name": "stdout",
     "output_type": "stream",
     "text": [
      "Enter l = 6\n",
      "Enter b = 6\n",
      "36\n"
     ]
    }
   ],
   "source": [
    "def area(x,y):\n",
    "    a = x*y\n",
    "    print (a)\n",
    "    \n",
    "l = int(input(\"Enter l = \"))  \n",
    "b = int(input(\"Enter b = \"))  \n",
    "area(l,b)"
   ]
  },
  {
   "cell_type": "code",
   "execution_count": 14,
   "id": "e3e4a70e",
   "metadata": {},
   "outputs": [
    {
     "name": "stdout",
     "output_type": "stream",
     "text": [
      "Enter name = shreeya\n",
      "Enter age = 30\n",
      "Enter add = chandol\n",
      "Hello World I am shreeya. I am from chandol. I am 30\n"
     ]
    }
   ],
   "source": [
    "def info(l):\n",
    "    x,y,z=l\n",
    "    print(f\"Hello World I am {x}. I am from {z}. I am {y}\")\n",
    "          \n",
    "name = input(\"Enter name = \")\n",
    "age = int(input(\"Enter age = \"))\n",
    "add = input(\"Enter add = \")\n",
    "          \n",
    "l = [name,age,add]\n",
    "info(l)"
   ]
  },
  {
   "cell_type": "code",
   "execution_count": 15,
   "id": "99f2fe07",
   "metadata": {},
   "outputs": [
    {
     "name": "stdout",
     "output_type": "stream",
     "text": [
      "C\n",
      "C++\n",
      "Java\n",
      "PHP\n",
      "Python\n"
     ]
    }
   ],
   "source": [
    "def language(lan = \"Python\"):\n",
    "    print(lan)\n",
    "    \n",
    "language(\"C\") #above Python is replaced by C here. so it prints C in the first.\n",
    "language(\"C++\")  #above Python is replaced by C++. so it prints c++ in the second.\n",
    "language(\"Java\") #same as above\n",
    "language(\"PHP\")  #same as above\n",
    "language()"
   ]
  },
  {
   "cell_type": "code",
   "execution_count": 16,
   "id": "6f89d04b",
   "metadata": {},
   "outputs": [
    {
     "name": "stdout",
     "output_type": "stream",
     "text": [
      "Volume =  100\n"
     ]
    }
   ],
   "source": [
    "#return type function\n",
    "def area():\n",
    "    l = 10\n",
    "    b = 5\n",
    "    a = l*b\n",
    "    return a\n",
    "\n",
    "ar = area()\n",
    "h = 2\n",
    "v = ar*h\n",
    "print(\"Volume = \", v)"
   ]
  },
  {
   "cell_type": "code",
   "execution_count": 17,
   "id": "24893547",
   "metadata": {},
   "outputs": [
    {
     "name": "stdout",
     "output_type": "stream",
     "text": [
      "area =  50\n",
      "Volume =  100\n"
     ]
    }
   ],
   "source": [
    "def cal():\n",
    "    l = 10\n",
    "    b = 5\n",
    "    h = 2\n",
    "    a = l*b\n",
    "    v = a*h\n",
    "    return a,v #function bhanda bahira values lai liyera gayera we can do other calculations with it.\n",
    "\n",
    "area,volume = cal() #shuru ko value area ma jancha second value volume ma jancha\n",
    "print(\"area = \", area)\n",
    "print(\"Volume = \", volume)"
   ]
  },
  {
   "cell_type": "code",
   "execution_count": 18,
   "id": "4027cea7",
   "metadata": {},
   "outputs": [
    {
     "name": "stdout",
     "output_type": "stream",
     "text": [
      "Enter length  = 30\n",
      "Enter breadth  = 20\n",
      "Enter height  = 50\n",
      "area =  600\n",
      "Volume =  30000\n"
     ]
    }
   ],
   "source": [
    "def cal(l,b,h):\n",
    "    a = l*b\n",
    "    v = a*h\n",
    "    return a,v\n",
    "\n",
    "l = int(input(\"Enter length  = \"))\n",
    "b = int(input(\"Enter breadth  = \"))\n",
    "h = int(input(\"Enter height  = \"))\n",
    "\n",
    "area,volume = cal(l,b,h)\n",
    "print(\"area = \", area)\n",
    "print(\"Volume = \", volume)"
   ]
  },
  {
   "cell_type": "code",
   "execution_count": 20,
   "id": "7c25602d",
   "metadata": {},
   "outputs": [
    {
     "ename": "SyntaxError",
     "evalue": "invalid syntax (3754375080.py, line 23)",
     "output_type": "error",
     "traceback": [
      "\u001b[0;36m  Cell \u001b[0;32mIn[20], line 23\u001b[0;36m\u001b[0m\n\u001b[0;31m    else:\u001b[0m\n\u001b[0m    ^\u001b[0m\n\u001b[0;31mSyntaxError\u001b[0m\u001b[0;31m:\u001b[0m invalid syntax\n"
     ]
    }
   ],
   "source": [
    "def add(a,b):\n",
    "    return a+b\n",
    "def sub(a,b):\n",
    "    return a-b\n",
    "def mul(a,b):\n",
    "    return a*b\n",
    "def div(a,b):\n",
    "    return a/b\n",
    "\n",
    "def cal():\n",
    "    \n",
    "    a = int(input(\"Enter a = \"))\n",
    "    b = int(input(\"Enter b = \"))\n",
    "    o = input (\"Enter + or - or * or / \")\n",
    "    if o == \"+\":\n",
    "        print(add(a,b))\n",
    "    elif o == \"-\":\n",
    "        print (sub(a,b))\n",
    "    elif o == \"*\":\n",
    "        print (mul(a,b))\n",
    "    elif o == \"/\":\n",
    "        print (div(a,b))\n",
    "else:\n",
    "    print (\"Enter valid operator\")"
   ]
  },
  {
   "cell_type": "code",
   "execution_count": null,
   "id": "8d4dd43f",
   "metadata": {},
   "outputs": [],
   "source": []
  }
 ],
 "metadata": {
  "kernelspec": {
   "display_name": "Python 3 (ipykernel)",
   "language": "python",
   "name": "python3"
  },
  "language_info": {
   "codemirror_mode": {
    "name": "ipython",
    "version": 3
   },
   "file_extension": ".py",
   "mimetype": "text/x-python",
   "name": "python",
   "nbconvert_exporter": "python",
   "pygments_lexer": "ipython3",
   "version": "3.11.5"
  }
 },
 "nbformat": 4,
 "nbformat_minor": 5
}
