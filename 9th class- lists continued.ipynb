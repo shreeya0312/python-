{
 "cells": [
  {
   "cell_type": "code",
   "execution_count": 1,
   "id": "7b6250cb",
   "metadata": {},
   "outputs": [],
   "source": [
    "#list inside list"
   ]
  },
  {
   "cell_type": "code",
   "execution_count": 7,
   "id": "e8870ffd",
   "metadata": {},
   "outputs": [
    {
     "name": "stdout",
     "output_type": "stream",
     "text": [
      "[[1, 2, 3], [4, 5, 6], [7, 8, 9]]\n"
     ]
    }
   ],
   "source": [
    "a = [[1,2,3],\n",
    "    [4,5,6],\n",
    "    [7,8,9]]\n",
    "print(a)"
   ]
  },
  {
   "cell_type": "code",
   "execution_count": 9,
   "id": "de20de9c",
   "metadata": {},
   "outputs": [
    {
     "name": "stdout",
     "output_type": "stream",
     "text": [
      "[['Ram', 45, 'Kathmandu'], ['Shyam', 67, 'Bhaktapur'], ['hari', 65, 'Lalitpur']]\n"
     ]
    }
   ],
   "source": [
    "a = [['Ram', 45, 'Kathmandu'],\n",
    "    ['Shyam', 67, 'Bhaktapur'],\n",
    "    ['hari', 65, 'Lalitpur']]\n",
    "print (a)\n",
    "\n"
   ]
  },
  {
   "cell_type": "code",
   "execution_count": 10,
   "id": "16ae28ed",
   "metadata": {},
   "outputs": [
    {
     "name": "stdout",
     "output_type": "stream",
     "text": [
      "['Ram', 45, 'Kathmandu']\n"
     ]
    }
   ],
   "source": [
    "print (a[0])"
   ]
  },
  {
   "cell_type": "code",
   "execution_count": 11,
   "id": "2d4dbecb",
   "metadata": {},
   "outputs": [
    {
     "name": "stdout",
     "output_type": "stream",
     "text": [
      "Kathmandu\n"
     ]
    }
   ],
   "source": [
    "print (a[0][2])"
   ]
  },
  {
   "cell_type": "code",
   "execution_count": 12,
   "id": "3bd6851a",
   "metadata": {},
   "outputs": [
    {
     "name": "stdout",
     "output_type": "stream",
     "text": [
      "Enter n = 3\n",
      "Enter name = shreeya\n",
      "Enter age = 30\n",
      "Enter add = chandol \n",
      "Enter name = sidd\n",
      "Enter age = 28\n",
      "Enter add = ottawa\n",
      "Enter name = seema\n",
      "Enter age = 53\n",
      "Enter add = change;\n",
      "[['shreeya', 30, 'chandol '], ['sidd', 28, 'ottawa'], ['seema', 53, 'change;']]\n"
     ]
    }
   ],
   "source": [
    "l=[]\n",
    "n=int(input(\"Enter n = \"))\n",
    "for i in range(n):\n",
    "    name = input (\"Enter name = \")\n",
    "    age = int (input(\"Enter age = \"))\n",
    "    add = input(\"Enter add = \")\n",
    "    x = [name,age,add]\n",
    "    l.append(x)\n",
    "print(l)"
   ]
  },
  {
   "cell_type": "code",
   "execution_count": 17,
   "id": "7ea719a3",
   "metadata": {},
   "outputs": [
    {
     "data": {
      "text/plain": [
       "[['Ram', 34, 'Kathmandu'],\n",
       " ['Bharat', 34, 'Kathmandu'],\n",
       " ['Hari', 23, 'Lalitpur']]"
      ]
     },
     "execution_count": 17,
     "metadata": {},
     "output_type": "execute_result"
    }
   ],
   "source": [
    "l=[['Ram',34, 'Kathmandu'], ['Bharat', 34, 'Kathmandu']]\n",
    "l.append(['Hari', 23, 'Lalitpur'])\n",
    "l"
   ]
  },
  {
   "cell_type": "code",
   "execution_count": 18,
   "id": "5e4c8a38",
   "metadata": {},
   "outputs": [],
   "source": [
    "del l[2]"
   ]
  },
  {
   "cell_type": "code",
   "execution_count": 19,
   "id": "fcbd1fe9",
   "metadata": {},
   "outputs": [
    {
     "name": "stdout",
     "output_type": "stream",
     "text": [
      "[['Ram', 34, 'Kathmandu'], ['Bharat', 34, 'Kathmandu']]\n"
     ]
    }
   ],
   "source": [
    "print (l)"
   ]
  },
  {
   "cell_type": "code",
   "execution_count": 22,
   "id": "f8f3ddc8",
   "metadata": {},
   "outputs": [
    {
     "name": "stdout",
     "output_type": "stream",
     "text": [
      "Enter name = Hari\n",
      "['Hari', 23, 'Lalitpur']\n"
     ]
    }
   ],
   "source": [
    "#search\n",
    "l = [['Ram', 34, 'Kathmandu'],\n",
    "     ['Bharat', 34, 'Kathmandu'],\n",
    "     ['Hari', 23, 'Lalitpur']]\n",
    "\n",
    "name = input (\"Enter name = \")\n",
    "for i in l: #first loop will run in ram 34 kathmandu. second loop will run in bharat 34 kathmandu.\n",
    "    if name in i: #if Ram in i is true, print i bhaneko. if Hari in i is true, print i.  \n",
    "        print (i)"
   ]
  },
  {
   "cell_type": "code",
   "execution_count": 23,
   "id": "620cc18d",
   "metadata": {},
   "outputs": [
    {
     "data": {
      "text/plain": [
       "['Rama', 34, 'Kathmandu']"
      ]
     },
     "execution_count": 23,
     "metadata": {},
     "output_type": "execute_result"
    }
   ],
   "source": [
    "#how to change a value inside a list. Ram lai kasari Rama banaune?\n",
    "\n",
    "l = ['Ram', 34, 'Kathmandu']\n",
    "l[0] = \"Rama\"\n",
    "l"
   ]
  },
  {
   "cell_type": "code",
   "execution_count": 27,
   "id": "62ec54aa",
   "metadata": {},
   "outputs": [
    {
     "data": {
      "text/plain": [
       "[['Rama', 34, 'Kathmandu'],\n",
       " ['Bharat', 34, 'Kathmandu'],\n",
       " ['Hari', 23, 'Lalitpur']]"
      ]
     },
     "execution_count": 27,
     "metadata": {},
     "output_type": "execute_result"
    }
   ],
   "source": [
    "l = [['Ram', 34, 'Kathmandu'],     #Ram ko indexing is [0][0]. 34 is [0][1], Kathmandu is 0,2. Bharat ko indexing is 1,0\n",
    "     ['Bharat', 34, 'Kathmandu'],\n",
    "     ['Hari', 23, 'Lalitpur']]\n",
    "\n",
    "l[0][0] = \"Rama\"\n",
    "l"
   ]
  },
  {
   "cell_type": "code",
   "execution_count": 28,
   "id": "902e211d",
   "metadata": {},
   "outputs": [],
   "source": [
    "#WAP to create a matrix by taking input from user\n",
    "#row -> ?\n",
    "#colums -> ?\n",
    "#x -> ?"
   ]
  },
  {
   "cell_type": "code",
   "execution_count": null,
   "id": "c3cf7ab6",
   "metadata": {},
   "outputs": [],
   "source": [
    "x = []\n",
    "r = int(input(\"Enter number of rows = \"))\n",
    "c = int(input(\"Enter number of columns = \"))\n",
    "for i in range (r):\n",
    "    y = []\n",
    "    for j in range (c):\n",
    "        z = int(input(\"Enter z = \"))\n",
    "        y.append(z)\n",
    "    x.append(y)\n",
    "print(x)"
   ]
  },
  {
   "cell_type": "code",
   "execution_count": null,
   "id": "6377354b",
   "metadata": {},
   "outputs": [],
   "source": []
  }
 ],
 "metadata": {
  "kernelspec": {
   "display_name": "Python 3 (ipykernel)",
   "language": "python",
   "name": "python3"
  },
  "language_info": {
   "codemirror_mode": {
    "name": "ipython",
    "version": 3
   },
   "file_extension": ".py",
   "mimetype": "text/x-python",
   "name": "python",
   "nbconvert_exporter": "python",
   "pygments_lexer": "ipython3",
   "version": "3.11.5"
  }
 },
 "nbformat": 4,
 "nbformat_minor": 5
}
